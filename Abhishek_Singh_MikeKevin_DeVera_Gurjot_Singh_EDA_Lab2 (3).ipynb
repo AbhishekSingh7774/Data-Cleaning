{
  "cells": [
    {
      "cell_type": "markdown",
      "id": "693f8a01-919d-4abc-8394-664b08e35bec",
      "metadata": {
        "id": "693f8a01-919d-4abc-8394-664b08e35bec"
      },
      "source": [
        "# Lab Two: Data Cleaning"
      ]
    },
    {
      "cell_type": "markdown",
      "id": "2012d387-6c65-41cd-bff6-9f60f37d3494",
      "metadata": {
        "id": "2012d387-6c65-41cd-bff6-9f60f37d3494"
      },
      "source": [
        "Data cleaning is the very first part of any data analysis and/or machine learning project. In this lab, you will be going over some of the common data issues and applying suitable fixes."
      ]
    },
    {
      "cell_type": "markdown",
      "id": "aa9b95a7-a550-42d2-a562-923a2ea72b90",
      "metadata": {
        "id": "aa9b95a7-a550-42d2-a562-923a2ea72b90"
      },
      "source": [
        "##### Loading libraries needed and the data"
      ]
    },
    {
      "cell_type": "code",
      "execution_count": 145,
      "id": "2e59af70-8803-41ac-b528-47f267673b11",
      "metadata": {
        "id": "2e59af70-8803-41ac-b528-47f267673b11"
      },
      "outputs": [],
      "source": [
        "import pandas as pd\n",
        "import numpy as np"
      ]
    },
    {
      "cell_type": "markdown",
      "id": "ef96ef46-acdd-408d-8078-84ee4da9c93b",
      "metadata": {
        "id": "ef96ef46-acdd-408d-8078-84ee4da9c93b"
      },
      "source": [
        "### Explaining the data we will be using for this and the next few labs"
      ]
    },
    {
      "cell_type": "markdown",
      "id": "3f0e681d-9780-48a3-82de-c7d7932622de",
      "metadata": {
        "id": "3f0e681d-9780-48a3-82de-c7d7932622de"
      },
      "source": [
        "In this example, we have four datasets, two datasets from two different hypothetical clinics, \"clinic1\" and \"clinic2\" which diagnose patients with a novel device that takes many measurements. The final goal is to see if they have a particular disease or not.\n",
        "\n",
        "Measurements taken from patients in the two clinics are presented in dataframes `df_1` and `df_c2`. We also have an inspection log, recorded in `df_3` and `df_4`, for the devices used in \"clinic1\" and \"clinic2\" where many variables from the device are measured.\n",
        "\n",
        "Two of these variables, `'R1'` and `'R3'`, are believed to affect the readings taken from the patients. The `df_1` and `df_2` datasets are labelled with an actual diagnosis of whether the patient had the disease or not, and the goal is to predict the existence of the disease based on the measurements taken from the patients. Since the variables of the devices, measured in inspection, affects the measurements taken from patients in clinics, they should also be considered. Here are the data frames:"
      ]
    },
    {
      "cell_type": "markdown",
      "id": "dd0132dc-2dbc-4de5-b62c-94c17161570a",
      "metadata": {
        "id": "dd0132dc-2dbc-4de5-b62c-94c17161570a"
      },
      "source": [
        "#### Note: Cells which have '[A]' represents the activity you have to do."
      ]
    },
    {
      "cell_type": "code",
      "execution_count": 146,
      "id": "099de96b-4ddb-43dd-bc2e-a6e1c9aff5cd",
      "metadata": {
        "id": "099de96b-4ddb-43dd-bc2e-a6e1c9aff5cd"
      },
      "outputs": [],
      "source": [
        "# loading the 'df_1_lab_2.csv' csv data\n",
        "df = pd.read_csv('df_1_lab_2.csv')\n",
        "\n",
        "# This makes it so we are able to see 100 rows when displaying the data\n",
        "pd.set_option('display.max_rows', 100)"
      ]
    },
    {
      "cell_type": "code",
      "execution_count": 147,
      "id": "e38e652e-7a06-4096-97e8-f01bfb698735",
      "metadata": {
        "colab": {
          "base_uri": "https://localhost:8080/",
          "height": 330
        },
        "id": "e38e652e-7a06-4096-97e8-f01bfb698735",
        "outputId": "b7bf8675-e56d-4ad1-bcd5-2d2c3059966e"
      },
      "outputs": [
        {
          "output_type": "execute_result",
          "data": {
            "text/plain": [
              "   Unnamed: 0 Examination Date                 Name  Gender  Age Mode  \\\n",
              "0           0       2011-06-10          Cody Watson    male   72    d   \n",
              "1           1       2011-02-20        Jonathan Duke    male    9    e   \n",
              "2           2       2011-06-27  Charlene Houseworth  female   59    f   \n",
              "3           3       2010-09-22        Gregory Curci    Male   23    g   \n",
              "4           4       2011-06-10          Cody Watson    male   72    d   \n",
              "\n",
              "                    Q        M1        DD Diagnosis  \n",
              "0                   _  5.058993  1.481877  negative  \n",
              "1  104.08763319576146  6.531724  2.266884  negative  \n",
              "2  102.90431521853222  6.273313  0.396333  positive  \n",
              "3  152.65165533060298  7.333626  0.557534  positive  \n",
              "4                   _  5.058993  1.481877  negative  "
            ],
            "text/html": [
              "\n",
              "  <div id=\"df-f9810d1a-64c1-4ca9-bace-b8bf54bda0c4\" class=\"colab-df-container\">\n",
              "    <div>\n",
              "<style scoped>\n",
              "    .dataframe tbody tr th:only-of-type {\n",
              "        vertical-align: middle;\n",
              "    }\n",
              "\n",
              "    .dataframe tbody tr th {\n",
              "        vertical-align: top;\n",
              "    }\n",
              "\n",
              "    .dataframe thead th {\n",
              "        text-align: right;\n",
              "    }\n",
              "</style>\n",
              "<table border=\"1\" class=\"dataframe\">\n",
              "  <thead>\n",
              "    <tr style=\"text-align: right;\">\n",
              "      <th></th>\n",
              "      <th>Unnamed: 0</th>\n",
              "      <th>Examination Date</th>\n",
              "      <th>Name</th>\n",
              "      <th>Gender</th>\n",
              "      <th>Age</th>\n",
              "      <th>Mode</th>\n",
              "      <th>Q</th>\n",
              "      <th>M1</th>\n",
              "      <th>DD</th>\n",
              "      <th>Diagnosis</th>\n",
              "    </tr>\n",
              "  </thead>\n",
              "  <tbody>\n",
              "    <tr>\n",
              "      <th>0</th>\n",
              "      <td>0</td>\n",
              "      <td>2011-06-10</td>\n",
              "      <td>Cody Watson</td>\n",
              "      <td>male</td>\n",
              "      <td>72</td>\n",
              "      <td>d</td>\n",
              "      <td>_</td>\n",
              "      <td>5.058993</td>\n",
              "      <td>1.481877</td>\n",
              "      <td>negative</td>\n",
              "    </tr>\n",
              "    <tr>\n",
              "      <th>1</th>\n",
              "      <td>1</td>\n",
              "      <td>2011-02-20</td>\n",
              "      <td>Jonathan Duke</td>\n",
              "      <td>male</td>\n",
              "      <td>9</td>\n",
              "      <td>e</td>\n",
              "      <td>104.08763319576146</td>\n",
              "      <td>6.531724</td>\n",
              "      <td>2.266884</td>\n",
              "      <td>negative</td>\n",
              "    </tr>\n",
              "    <tr>\n",
              "      <th>2</th>\n",
              "      <td>2</td>\n",
              "      <td>2011-06-27</td>\n",
              "      <td>Charlene Houseworth</td>\n",
              "      <td>female</td>\n",
              "      <td>59</td>\n",
              "      <td>f</td>\n",
              "      <td>102.90431521853222</td>\n",
              "      <td>6.273313</td>\n",
              "      <td>0.396333</td>\n",
              "      <td>positive</td>\n",
              "    </tr>\n",
              "    <tr>\n",
              "      <th>3</th>\n",
              "      <td>3</td>\n",
              "      <td>2010-09-22</td>\n",
              "      <td>Gregory Curci</td>\n",
              "      <td>Male</td>\n",
              "      <td>23</td>\n",
              "      <td>g</td>\n",
              "      <td>152.65165533060298</td>\n",
              "      <td>7.333626</td>\n",
              "      <td>0.557534</td>\n",
              "      <td>positive</td>\n",
              "    </tr>\n",
              "    <tr>\n",
              "      <th>4</th>\n",
              "      <td>4</td>\n",
              "      <td>2011-06-10</td>\n",
              "      <td>Cody Watson</td>\n",
              "      <td>male</td>\n",
              "      <td>72</td>\n",
              "      <td>d</td>\n",
              "      <td>_</td>\n",
              "      <td>5.058993</td>\n",
              "      <td>1.481877</td>\n",
              "      <td>negative</td>\n",
              "    </tr>\n",
              "  </tbody>\n",
              "</table>\n",
              "</div>\n",
              "    <div class=\"colab-df-buttons\">\n",
              "\n",
              "  <div class=\"colab-df-container\">\n",
              "    <button class=\"colab-df-convert\" onclick=\"convertToInteractive('df-f9810d1a-64c1-4ca9-bace-b8bf54bda0c4')\"\n",
              "            title=\"Convert this dataframe to an interactive table.\"\n",
              "            style=\"display:none;\">\n",
              "\n",
              "  <svg xmlns=\"http://www.w3.org/2000/svg\" height=\"24px\" viewBox=\"0 -960 960 960\">\n",
              "    <path d=\"M120-120v-720h720v720H120Zm60-500h600v-160H180v160Zm220 220h160v-160H400v160Zm0 220h160v-160H400v160ZM180-400h160v-160H180v160Zm440 0h160v-160H620v160ZM180-180h160v-160H180v160Zm440 0h160v-160H620v160Z\"/>\n",
              "  </svg>\n",
              "    </button>\n",
              "\n",
              "  <style>\n",
              "    .colab-df-container {\n",
              "      display:flex;\n",
              "      gap: 12px;\n",
              "    }\n",
              "\n",
              "    .colab-df-convert {\n",
              "      background-color: #E8F0FE;\n",
              "      border: none;\n",
              "      border-radius: 50%;\n",
              "      cursor: pointer;\n",
              "      display: none;\n",
              "      fill: #1967D2;\n",
              "      height: 32px;\n",
              "      padding: 0 0 0 0;\n",
              "      width: 32px;\n",
              "    }\n",
              "\n",
              "    .colab-df-convert:hover {\n",
              "      background-color: #E2EBFA;\n",
              "      box-shadow: 0px 1px 2px rgba(60, 64, 67, 0.3), 0px 1px 3px 1px rgba(60, 64, 67, 0.15);\n",
              "      fill: #174EA6;\n",
              "    }\n",
              "\n",
              "    .colab-df-buttons div {\n",
              "      margin-bottom: 4px;\n",
              "    }\n",
              "\n",
              "    [theme=dark] .colab-df-convert {\n",
              "      background-color: #3B4455;\n",
              "      fill: #D2E3FC;\n",
              "    }\n",
              "\n",
              "    [theme=dark] .colab-df-convert:hover {\n",
              "      background-color: #434B5C;\n",
              "      box-shadow: 0px 1px 3px 1px rgba(0, 0, 0, 0.15);\n",
              "      filter: drop-shadow(0px 1px 2px rgba(0, 0, 0, 0.3));\n",
              "      fill: #FFFFFF;\n",
              "    }\n",
              "  </style>\n",
              "\n",
              "    <script>\n",
              "      const buttonEl =\n",
              "        document.querySelector('#df-f9810d1a-64c1-4ca9-bace-b8bf54bda0c4 button.colab-df-convert');\n",
              "      buttonEl.style.display =\n",
              "        google.colab.kernel.accessAllowed ? 'block' : 'none';\n",
              "\n",
              "      async function convertToInteractive(key) {\n",
              "        const element = document.querySelector('#df-f9810d1a-64c1-4ca9-bace-b8bf54bda0c4');\n",
              "        const dataTable =\n",
              "          await google.colab.kernel.invokeFunction('convertToInteractive',\n",
              "                                                    [key], {});\n",
              "        if (!dataTable) return;\n",
              "\n",
              "        const docLinkHtml = 'Like what you see? Visit the ' +\n",
              "          '<a target=\"_blank\" href=https://colab.research.google.com/notebooks/data_table.ipynb>data table notebook</a>'\n",
              "          + ' to learn more about interactive tables.';\n",
              "        element.innerHTML = '';\n",
              "        dataTable['output_type'] = 'display_data';\n",
              "        await google.colab.output.renderOutput(dataTable, element);\n",
              "        const docLink = document.createElement('div');\n",
              "        docLink.innerHTML = docLinkHtml;\n",
              "        element.appendChild(docLink);\n",
              "      }\n",
              "    </script>\n",
              "  </div>\n",
              "\n",
              "\n",
              "<div id=\"df-9d54bbd7-fb2a-4e40-b57a-fee64d41ee11\">\n",
              "  <button class=\"colab-df-quickchart\" onclick=\"quickchart('df-9d54bbd7-fb2a-4e40-b57a-fee64d41ee11')\"\n",
              "            title=\"Suggest charts.\"\n",
              "            style=\"display:none;\">\n",
              "\n",
              "<svg xmlns=\"http://www.w3.org/2000/svg\" height=\"24px\"viewBox=\"0 0 24 24\"\n",
              "     width=\"24px\">\n",
              "    <g>\n",
              "        <path d=\"M19 3H5c-1.1 0-2 .9-2 2v14c0 1.1.9 2 2 2h14c1.1 0 2-.9 2-2V5c0-1.1-.9-2-2-2zM9 17H7v-7h2v7zm4 0h-2V7h2v10zm4 0h-2v-4h2v4z\"/>\n",
              "    </g>\n",
              "</svg>\n",
              "  </button>\n",
              "\n",
              "<style>\n",
              "  .colab-df-quickchart {\n",
              "      --bg-color: #E8F0FE;\n",
              "      --fill-color: #1967D2;\n",
              "      --hover-bg-color: #E2EBFA;\n",
              "      --hover-fill-color: #174EA6;\n",
              "      --disabled-fill-color: #AAA;\n",
              "      --disabled-bg-color: #DDD;\n",
              "  }\n",
              "\n",
              "  [theme=dark] .colab-df-quickchart {\n",
              "      --bg-color: #3B4455;\n",
              "      --fill-color: #D2E3FC;\n",
              "      --hover-bg-color: #434B5C;\n",
              "      --hover-fill-color: #FFFFFF;\n",
              "      --disabled-bg-color: #3B4455;\n",
              "      --disabled-fill-color: #666;\n",
              "  }\n",
              "\n",
              "  .colab-df-quickchart {\n",
              "    background-color: var(--bg-color);\n",
              "    border: none;\n",
              "    border-radius: 50%;\n",
              "    cursor: pointer;\n",
              "    display: none;\n",
              "    fill: var(--fill-color);\n",
              "    height: 32px;\n",
              "    padding: 0;\n",
              "    width: 32px;\n",
              "  }\n",
              "\n",
              "  .colab-df-quickchart:hover {\n",
              "    background-color: var(--hover-bg-color);\n",
              "    box-shadow: 0 1px 2px rgba(60, 64, 67, 0.3), 0 1px 3px 1px rgba(60, 64, 67, 0.15);\n",
              "    fill: var(--button-hover-fill-color);\n",
              "  }\n",
              "\n",
              "  .colab-df-quickchart-complete:disabled,\n",
              "  .colab-df-quickchart-complete:disabled:hover {\n",
              "    background-color: var(--disabled-bg-color);\n",
              "    fill: var(--disabled-fill-color);\n",
              "    box-shadow: none;\n",
              "  }\n",
              "\n",
              "  .colab-df-spinner {\n",
              "    border: 2px solid var(--fill-color);\n",
              "    border-color: transparent;\n",
              "    border-bottom-color: var(--fill-color);\n",
              "    animation:\n",
              "      spin 1s steps(1) infinite;\n",
              "  }\n",
              "\n",
              "  @keyframes spin {\n",
              "    0% {\n",
              "      border-color: transparent;\n",
              "      border-bottom-color: var(--fill-color);\n",
              "      border-left-color: var(--fill-color);\n",
              "    }\n",
              "    20% {\n",
              "      border-color: transparent;\n",
              "      border-left-color: var(--fill-color);\n",
              "      border-top-color: var(--fill-color);\n",
              "    }\n",
              "    30% {\n",
              "      border-color: transparent;\n",
              "      border-left-color: var(--fill-color);\n",
              "      border-top-color: var(--fill-color);\n",
              "      border-right-color: var(--fill-color);\n",
              "    }\n",
              "    40% {\n",
              "      border-color: transparent;\n",
              "      border-right-color: var(--fill-color);\n",
              "      border-top-color: var(--fill-color);\n",
              "    }\n",
              "    60% {\n",
              "      border-color: transparent;\n",
              "      border-right-color: var(--fill-color);\n",
              "    }\n",
              "    80% {\n",
              "      border-color: transparent;\n",
              "      border-right-color: var(--fill-color);\n",
              "      border-bottom-color: var(--fill-color);\n",
              "    }\n",
              "    90% {\n",
              "      border-color: transparent;\n",
              "      border-bottom-color: var(--fill-color);\n",
              "    }\n",
              "  }\n",
              "</style>\n",
              "\n",
              "  <script>\n",
              "    async function quickchart(key) {\n",
              "      const quickchartButtonEl =\n",
              "        document.querySelector('#' + key + ' button');\n",
              "      quickchartButtonEl.disabled = true;  // To prevent multiple clicks.\n",
              "      quickchartButtonEl.classList.add('colab-df-spinner');\n",
              "      try {\n",
              "        const charts = await google.colab.kernel.invokeFunction(\n",
              "            'suggestCharts', [key], {});\n",
              "      } catch (error) {\n",
              "        console.error('Error during call to suggestCharts:', error);\n",
              "      }\n",
              "      quickchartButtonEl.classList.remove('colab-df-spinner');\n",
              "      quickchartButtonEl.classList.add('colab-df-quickchart-complete');\n",
              "    }\n",
              "    (() => {\n",
              "      let quickchartButtonEl =\n",
              "        document.querySelector('#df-9d54bbd7-fb2a-4e40-b57a-fee64d41ee11 button');\n",
              "      quickchartButtonEl.style.display =\n",
              "        google.colab.kernel.accessAllowed ? 'block' : 'none';\n",
              "    })();\n",
              "  </script>\n",
              "</div>\n",
              "    </div>\n",
              "  </div>\n"
            ]
          },
          "metadata": {},
          "execution_count": 147
        }
      ],
      "source": [
        "df.head()"
      ]
    },
    {
      "cell_type": "markdown",
      "id": "2643083f-e93b-424e-8aca-48ac3f2ddfb1",
      "metadata": {
        "id": "2643083f-e93b-424e-8aca-48ac3f2ddfb1"
      },
      "source": [
        "## Looking at issues with the data"
      ]
    },
    {
      "cell_type": "markdown",
      "id": "325825fd-0727-46ad-9b06-f8b74ea7d4b1",
      "metadata": {
        "id": "325825fd-0727-46ad-9b06-f8b74ea7d4b1"
      },
      "source": [
        "##### Unique values of the `'Gender'` feature."
      ]
    },
    {
      "cell_type": "code",
      "execution_count": 148,
      "id": "9246d854-4fef-4018-a524-428b82fea07d",
      "metadata": {
        "colab": {
          "base_uri": "https://localhost:8080/"
        },
        "id": "9246d854-4fef-4018-a524-428b82fea07d",
        "outputId": "9d8e4c90-ce84-4f11-bb20-738a947e586a"
      },
      "outputs": [
        {
          "output_type": "execute_result",
          "data": {
            "text/plain": [
              "array(['male', 'female', 'Male', 'fmeale'], dtype=object)"
            ]
          },
          "metadata": {},
          "execution_count": 148
        }
      ],
      "source": [
        "df['Gender'].unique()"
      ]
    },
    {
      "cell_type": "code",
      "source": [
        "df['Diagnosis'].unique()"
      ],
      "metadata": {
        "colab": {
          "base_uri": "https://localhost:8080/"
        },
        "id": "1URUA0WYKkzX",
        "outputId": "da012dc3-6346-4b21-fa7e-e48be3f31676"
      },
      "id": "1URUA0WYKkzX",
      "execution_count": 149,
      "outputs": [
        {
          "output_type": "execute_result",
          "data": {
            "text/plain": [
              "array(['negative', 'positive', '_'], dtype=object)"
            ]
          },
          "metadata": {},
          "execution_count": 149
        }
      ]
    },
    {
      "cell_type": "markdown",
      "id": "2dc877ae-c027-4b99-b8ed-ece4e5aed0f3",
      "metadata": {
        "id": "2dc877ae-c027-4b99-b8ed-ece4e5aed0f3"
      },
      "source": [
        "##### Unique values of the `'Mode'` feature."
      ]
    },
    {
      "cell_type": "code",
      "execution_count": 150,
      "id": "857a2151-734f-44d1-9c85-4b15f0d8a2ff",
      "metadata": {
        "colab": {
          "base_uri": "https://localhost:8080/"
        },
        "id": "857a2151-734f-44d1-9c85-4b15f0d8a2ff",
        "outputId": "6261ba77-5655-4740-9fd8-5bd53d60efb4"
      },
      "outputs": [
        {
          "output_type": "execute_result",
          "data": {
            "text/plain": [
              "array(['d', 'e', 'f', 'g', '_', 'F', 'h', 'a'], dtype=object)"
            ]
          },
          "metadata": {},
          "execution_count": 150
        }
      ],
      "source": [
        "df['Mode'].unique()"
      ]
    },
    {
      "cell_type": "markdown",
      "id": "482ab25d-ca3a-41bd-a7b4-c9ad9ff9e5b6",
      "metadata": {
        "id": "482ab25d-ca3a-41bd-a7b4-c9ad9ff9e5b6"
      },
      "source": [
        "##### Observing the data types of each column."
      ]
    },
    {
      "cell_type": "code",
      "execution_count": 151,
      "id": "7169d1f6-c5a7-4d26-8a8f-86a559ddbdd0",
      "metadata": {
        "colab": {
          "base_uri": "https://localhost:8080/"
        },
        "id": "7169d1f6-c5a7-4d26-8a8f-86a559ddbdd0",
        "outputId": "37831852-5a9f-4cf5-f39b-984e02c3761b"
      },
      "outputs": [
        {
          "output_type": "execute_result",
          "data": {
            "text/plain": [
              "Unnamed: 0            int64\n",
              "Examination Date     object\n",
              "Name                 object\n",
              "Gender               object\n",
              "Age                   int64\n",
              "Mode                 object\n",
              "Q                    object\n",
              "M1                  float64\n",
              "DD                  float64\n",
              "Diagnosis            object\n",
              "dtype: object"
            ]
          },
          "metadata": {},
          "execution_count": 151
        }
      ],
      "source": [
        "df.dtypes"
      ]
    },
    {
      "cell_type": "markdown",
      "id": "3481ed23-8708-4cea-8f74-df11767c121b",
      "metadata": {
        "tags": [],
        "id": "3481ed23-8708-4cea-8f74-df11767c121b"
      },
      "source": [
        "# Lab Activity One: Guided Data Cleaning"
      ]
    },
    {
      "cell_type": "markdown",
      "id": "7282dd57-0fd1-49a6-a2f2-299deb38be8d",
      "metadata": {
        "id": "7282dd57-0fd1-49a6-a2f2-299deb38be8d"
      },
      "source": [
        "##### It is generally a good idea to make a copy of the master dataset for cleaning so you can always go back if ever needed."
      ]
    },
    {
      "cell_type": "code",
      "execution_count": 152,
      "id": "da4d0df0-9264-4a0c-a047-d30d4d889e74",
      "metadata": {
        "id": "da4d0df0-9264-4a0c-a047-d30d4d889e74"
      },
      "outputs": [],
      "source": [
        "df_clean = df.copy()"
      ]
    },
    {
      "cell_type": "code",
      "source": [
        "df_clean.head()"
      ],
      "metadata": {
        "colab": {
          "base_uri": "https://localhost:8080/",
          "height": 330
        },
        "id": "IMfBOArQMEP-",
        "outputId": "d4939def-0411-45c2-b008-5042f826503c"
      },
      "id": "IMfBOArQMEP-",
      "execution_count": 153,
      "outputs": [
        {
          "output_type": "execute_result",
          "data": {
            "text/plain": [
              "   Unnamed: 0 Examination Date                 Name  Gender  Age Mode  \\\n",
              "0           0       2011-06-10          Cody Watson    male   72    d   \n",
              "1           1       2011-02-20        Jonathan Duke    male    9    e   \n",
              "2           2       2011-06-27  Charlene Houseworth  female   59    f   \n",
              "3           3       2010-09-22        Gregory Curci    Male   23    g   \n",
              "4           4       2011-06-10          Cody Watson    male   72    d   \n",
              "\n",
              "                    Q        M1        DD Diagnosis  \n",
              "0                   _  5.058993  1.481877  negative  \n",
              "1  104.08763319576146  6.531724  2.266884  negative  \n",
              "2  102.90431521853222  6.273313  0.396333  positive  \n",
              "3  152.65165533060298  7.333626  0.557534  positive  \n",
              "4                   _  5.058993  1.481877  negative  "
            ],
            "text/html": [
              "\n",
              "  <div id=\"df-0d01c973-fac2-4543-ae59-44e93410a190\" class=\"colab-df-container\">\n",
              "    <div>\n",
              "<style scoped>\n",
              "    .dataframe tbody tr th:only-of-type {\n",
              "        vertical-align: middle;\n",
              "    }\n",
              "\n",
              "    .dataframe tbody tr th {\n",
              "        vertical-align: top;\n",
              "    }\n",
              "\n",
              "    .dataframe thead th {\n",
              "        text-align: right;\n",
              "    }\n",
              "</style>\n",
              "<table border=\"1\" class=\"dataframe\">\n",
              "  <thead>\n",
              "    <tr style=\"text-align: right;\">\n",
              "      <th></th>\n",
              "      <th>Unnamed: 0</th>\n",
              "      <th>Examination Date</th>\n",
              "      <th>Name</th>\n",
              "      <th>Gender</th>\n",
              "      <th>Age</th>\n",
              "      <th>Mode</th>\n",
              "      <th>Q</th>\n",
              "      <th>M1</th>\n",
              "      <th>DD</th>\n",
              "      <th>Diagnosis</th>\n",
              "    </tr>\n",
              "  </thead>\n",
              "  <tbody>\n",
              "    <tr>\n",
              "      <th>0</th>\n",
              "      <td>0</td>\n",
              "      <td>2011-06-10</td>\n",
              "      <td>Cody Watson</td>\n",
              "      <td>male</td>\n",
              "      <td>72</td>\n",
              "      <td>d</td>\n",
              "      <td>_</td>\n",
              "      <td>5.058993</td>\n",
              "      <td>1.481877</td>\n",
              "      <td>negative</td>\n",
              "    </tr>\n",
              "    <tr>\n",
              "      <th>1</th>\n",
              "      <td>1</td>\n",
              "      <td>2011-02-20</td>\n",
              "      <td>Jonathan Duke</td>\n",
              "      <td>male</td>\n",
              "      <td>9</td>\n",
              "      <td>e</td>\n",
              "      <td>104.08763319576146</td>\n",
              "      <td>6.531724</td>\n",
              "      <td>2.266884</td>\n",
              "      <td>negative</td>\n",
              "    </tr>\n",
              "    <tr>\n",
              "      <th>2</th>\n",
              "      <td>2</td>\n",
              "      <td>2011-06-27</td>\n",
              "      <td>Charlene Houseworth</td>\n",
              "      <td>female</td>\n",
              "      <td>59</td>\n",
              "      <td>f</td>\n",
              "      <td>102.90431521853222</td>\n",
              "      <td>6.273313</td>\n",
              "      <td>0.396333</td>\n",
              "      <td>positive</td>\n",
              "    </tr>\n",
              "    <tr>\n",
              "      <th>3</th>\n",
              "      <td>3</td>\n",
              "      <td>2010-09-22</td>\n",
              "      <td>Gregory Curci</td>\n",
              "      <td>Male</td>\n",
              "      <td>23</td>\n",
              "      <td>g</td>\n",
              "      <td>152.65165533060298</td>\n",
              "      <td>7.333626</td>\n",
              "      <td>0.557534</td>\n",
              "      <td>positive</td>\n",
              "    </tr>\n",
              "    <tr>\n",
              "      <th>4</th>\n",
              "      <td>4</td>\n",
              "      <td>2011-06-10</td>\n",
              "      <td>Cody Watson</td>\n",
              "      <td>male</td>\n",
              "      <td>72</td>\n",
              "      <td>d</td>\n",
              "      <td>_</td>\n",
              "      <td>5.058993</td>\n",
              "      <td>1.481877</td>\n",
              "      <td>negative</td>\n",
              "    </tr>\n",
              "  </tbody>\n",
              "</table>\n",
              "</div>\n",
              "    <div class=\"colab-df-buttons\">\n",
              "\n",
              "  <div class=\"colab-df-container\">\n",
              "    <button class=\"colab-df-convert\" onclick=\"convertToInteractive('df-0d01c973-fac2-4543-ae59-44e93410a190')\"\n",
              "            title=\"Convert this dataframe to an interactive table.\"\n",
              "            style=\"display:none;\">\n",
              "\n",
              "  <svg xmlns=\"http://www.w3.org/2000/svg\" height=\"24px\" viewBox=\"0 -960 960 960\">\n",
              "    <path d=\"M120-120v-720h720v720H120Zm60-500h600v-160H180v160Zm220 220h160v-160H400v160Zm0 220h160v-160H400v160ZM180-400h160v-160H180v160Zm440 0h160v-160H620v160ZM180-180h160v-160H180v160Zm440 0h160v-160H620v160Z\"/>\n",
              "  </svg>\n",
              "    </button>\n",
              "\n",
              "  <style>\n",
              "    .colab-df-container {\n",
              "      display:flex;\n",
              "      gap: 12px;\n",
              "    }\n",
              "\n",
              "    .colab-df-convert {\n",
              "      background-color: #E8F0FE;\n",
              "      border: none;\n",
              "      border-radius: 50%;\n",
              "      cursor: pointer;\n",
              "      display: none;\n",
              "      fill: #1967D2;\n",
              "      height: 32px;\n",
              "      padding: 0 0 0 0;\n",
              "      width: 32px;\n",
              "    }\n",
              "\n",
              "    .colab-df-convert:hover {\n",
              "      background-color: #E2EBFA;\n",
              "      box-shadow: 0px 1px 2px rgba(60, 64, 67, 0.3), 0px 1px 3px 1px rgba(60, 64, 67, 0.15);\n",
              "      fill: #174EA6;\n",
              "    }\n",
              "\n",
              "    .colab-df-buttons div {\n",
              "      margin-bottom: 4px;\n",
              "    }\n",
              "\n",
              "    [theme=dark] .colab-df-convert {\n",
              "      background-color: #3B4455;\n",
              "      fill: #D2E3FC;\n",
              "    }\n",
              "\n",
              "    [theme=dark] .colab-df-convert:hover {\n",
              "      background-color: #434B5C;\n",
              "      box-shadow: 0px 1px 3px 1px rgba(0, 0, 0, 0.15);\n",
              "      filter: drop-shadow(0px 1px 2px rgba(0, 0, 0, 0.3));\n",
              "      fill: #FFFFFF;\n",
              "    }\n",
              "  </style>\n",
              "\n",
              "    <script>\n",
              "      const buttonEl =\n",
              "        document.querySelector('#df-0d01c973-fac2-4543-ae59-44e93410a190 button.colab-df-convert');\n",
              "      buttonEl.style.display =\n",
              "        google.colab.kernel.accessAllowed ? 'block' : 'none';\n",
              "\n",
              "      async function convertToInteractive(key) {\n",
              "        const element = document.querySelector('#df-0d01c973-fac2-4543-ae59-44e93410a190');\n",
              "        const dataTable =\n",
              "          await google.colab.kernel.invokeFunction('convertToInteractive',\n",
              "                                                    [key], {});\n",
              "        if (!dataTable) return;\n",
              "\n",
              "        const docLinkHtml = 'Like what you see? Visit the ' +\n",
              "          '<a target=\"_blank\" href=https://colab.research.google.com/notebooks/data_table.ipynb>data table notebook</a>'\n",
              "          + ' to learn more about interactive tables.';\n",
              "        element.innerHTML = '';\n",
              "        dataTable['output_type'] = 'display_data';\n",
              "        await google.colab.output.renderOutput(dataTable, element);\n",
              "        const docLink = document.createElement('div');\n",
              "        docLink.innerHTML = docLinkHtml;\n",
              "        element.appendChild(docLink);\n",
              "      }\n",
              "    </script>\n",
              "  </div>\n",
              "\n",
              "\n",
              "<div id=\"df-9ca2814b-f5d6-477b-af02-747340e85a55\">\n",
              "  <button class=\"colab-df-quickchart\" onclick=\"quickchart('df-9ca2814b-f5d6-477b-af02-747340e85a55')\"\n",
              "            title=\"Suggest charts.\"\n",
              "            style=\"display:none;\">\n",
              "\n",
              "<svg xmlns=\"http://www.w3.org/2000/svg\" height=\"24px\"viewBox=\"0 0 24 24\"\n",
              "     width=\"24px\">\n",
              "    <g>\n",
              "        <path d=\"M19 3H5c-1.1 0-2 .9-2 2v14c0 1.1.9 2 2 2h14c1.1 0 2-.9 2-2V5c0-1.1-.9-2-2-2zM9 17H7v-7h2v7zm4 0h-2V7h2v10zm4 0h-2v-4h2v4z\"/>\n",
              "    </g>\n",
              "</svg>\n",
              "  </button>\n",
              "\n",
              "<style>\n",
              "  .colab-df-quickchart {\n",
              "      --bg-color: #E8F0FE;\n",
              "      --fill-color: #1967D2;\n",
              "      --hover-bg-color: #E2EBFA;\n",
              "      --hover-fill-color: #174EA6;\n",
              "      --disabled-fill-color: #AAA;\n",
              "      --disabled-bg-color: #DDD;\n",
              "  }\n",
              "\n",
              "  [theme=dark] .colab-df-quickchart {\n",
              "      --bg-color: #3B4455;\n",
              "      --fill-color: #D2E3FC;\n",
              "      --hover-bg-color: #434B5C;\n",
              "      --hover-fill-color: #FFFFFF;\n",
              "      --disabled-bg-color: #3B4455;\n",
              "      --disabled-fill-color: #666;\n",
              "  }\n",
              "\n",
              "  .colab-df-quickchart {\n",
              "    background-color: var(--bg-color);\n",
              "    border: none;\n",
              "    border-radius: 50%;\n",
              "    cursor: pointer;\n",
              "    display: none;\n",
              "    fill: var(--fill-color);\n",
              "    height: 32px;\n",
              "    padding: 0;\n",
              "    width: 32px;\n",
              "  }\n",
              "\n",
              "  .colab-df-quickchart:hover {\n",
              "    background-color: var(--hover-bg-color);\n",
              "    box-shadow: 0 1px 2px rgba(60, 64, 67, 0.3), 0 1px 3px 1px rgba(60, 64, 67, 0.15);\n",
              "    fill: var(--button-hover-fill-color);\n",
              "  }\n",
              "\n",
              "  .colab-df-quickchart-complete:disabled,\n",
              "  .colab-df-quickchart-complete:disabled:hover {\n",
              "    background-color: var(--disabled-bg-color);\n",
              "    fill: var(--disabled-fill-color);\n",
              "    box-shadow: none;\n",
              "  }\n",
              "\n",
              "  .colab-df-spinner {\n",
              "    border: 2px solid var(--fill-color);\n",
              "    border-color: transparent;\n",
              "    border-bottom-color: var(--fill-color);\n",
              "    animation:\n",
              "      spin 1s steps(1) infinite;\n",
              "  }\n",
              "\n",
              "  @keyframes spin {\n",
              "    0% {\n",
              "      border-color: transparent;\n",
              "      border-bottom-color: var(--fill-color);\n",
              "      border-left-color: var(--fill-color);\n",
              "    }\n",
              "    20% {\n",
              "      border-color: transparent;\n",
              "      border-left-color: var(--fill-color);\n",
              "      border-top-color: var(--fill-color);\n",
              "    }\n",
              "    30% {\n",
              "      border-color: transparent;\n",
              "      border-left-color: var(--fill-color);\n",
              "      border-top-color: var(--fill-color);\n",
              "      border-right-color: var(--fill-color);\n",
              "    }\n",
              "    40% {\n",
              "      border-color: transparent;\n",
              "      border-right-color: var(--fill-color);\n",
              "      border-top-color: var(--fill-color);\n",
              "    }\n",
              "    60% {\n",
              "      border-color: transparent;\n",
              "      border-right-color: var(--fill-color);\n",
              "    }\n",
              "    80% {\n",
              "      border-color: transparent;\n",
              "      border-right-color: var(--fill-color);\n",
              "      border-bottom-color: var(--fill-color);\n",
              "    }\n",
              "    90% {\n",
              "      border-color: transparent;\n",
              "      border-bottom-color: var(--fill-color);\n",
              "    }\n",
              "  }\n",
              "</style>\n",
              "\n",
              "  <script>\n",
              "    async function quickchart(key) {\n",
              "      const quickchartButtonEl =\n",
              "        document.querySelector('#' + key + ' button');\n",
              "      quickchartButtonEl.disabled = true;  // To prevent multiple clicks.\n",
              "      quickchartButtonEl.classList.add('colab-df-spinner');\n",
              "      try {\n",
              "        const charts = await google.colab.kernel.invokeFunction(\n",
              "            'suggestCharts', [key], {});\n",
              "      } catch (error) {\n",
              "        console.error('Error during call to suggestCharts:', error);\n",
              "      }\n",
              "      quickchartButtonEl.classList.remove('colab-df-spinner');\n",
              "      quickchartButtonEl.classList.add('colab-df-quickchart-complete');\n",
              "    }\n",
              "    (() => {\n",
              "      let quickchartButtonEl =\n",
              "        document.querySelector('#df-9ca2814b-f5d6-477b-af02-747340e85a55 button');\n",
              "      quickchartButtonEl.style.display =\n",
              "        google.colab.kernel.accessAllowed ? 'block' : 'none';\n",
              "    })();\n",
              "  </script>\n",
              "</div>\n",
              "    </div>\n",
              "  </div>\n"
            ]
          },
          "metadata": {},
          "execution_count": 153
        }
      ]
    },
    {
      "cell_type": "markdown",
      "id": "1a63c897-6a07-4864-9fa5-8b5a61b115c5",
      "metadata": {
        "id": "1a63c897-6a07-4864-9fa5-8b5a61b115c5"
      },
      "source": [
        "##### [A] Drop the `'Unnamed: 0'` column"
      ]
    },
    {
      "cell_type": "code",
      "execution_count": 154,
      "id": "41fce1a1-2d8b-4c0d-b6cd-8e412f97d98e",
      "metadata": {
        "id": "41fce1a1-2d8b-4c0d-b6cd-8e412f97d98e"
      },
      "outputs": [],
      "source": [
        "df_clean = df_clean.drop(columns= ['Unnamed: 0'])"
      ]
    },
    {
      "cell_type": "markdown",
      "id": "7e0253c0-eff7-447b-bd07-2d562f7c4cf7",
      "metadata": {
        "id": "7e0253c0-eff7-447b-bd07-2d562f7c4cf7"
      },
      "source": [
        "##### [A] Fix the data in the `'Gender'` column.\n",
        "> Hint: make it so there are 2 unique entries, `'male'` and `'female'`."
      ]
    },
    {
      "cell_type": "code",
      "execution_count": 155,
      "id": "9a064b77-b84b-4ac3-974a-bef38f318d1e",
      "metadata": {
        "colab": {
          "base_uri": "https://localhost:8080/"
        },
        "id": "9a064b77-b84b-4ac3-974a-bef38f318d1e",
        "outputId": "cfa2bcca-86ac-4493-f311-aefeb8bfe75e"
      },
      "outputs": [
        {
          "output_type": "execute_result",
          "data": {
            "text/plain": [
              "0       male\n",
              "1       male\n",
              "2     female\n",
              "3       male\n",
              "4       male\n",
              "5     female\n",
              "6     female\n",
              "7       male\n",
              "8     female\n",
              "9     female\n",
              "10    female\n",
              "11      male\n",
              "12      male\n",
              "13      male\n",
              "14      male\n",
              "15    female\n",
              "16      male\n",
              "17    female\n",
              "18    female\n",
              "19      male\n",
              "20    female\n",
              "21      male\n",
              "22      male\n",
              "23    female\n",
              "24      male\n",
              "25      male\n",
              "26    female\n",
              "27    female\n",
              "28    female\n",
              "29      male\n",
              "30    female\n",
              "31    female\n",
              "32    female\n",
              "33      male\n",
              "34    female\n",
              "35      male\n",
              "36    female\n",
              "37    female\n",
              "38      male\n",
              "39    female\n",
              "40      male\n",
              "41      male\n",
              "42    female\n",
              "43      male\n",
              "44      male\n",
              "45    female\n",
              "46      male\n",
              "47    female\n",
              "48      male\n",
              "49      male\n",
              "50    female\n",
              "51    female\n",
              "52      male\n",
              "53    female\n",
              "54    female\n",
              "55      male\n",
              "56    female\n",
              "57      male\n",
              "58      male\n",
              "59      male\n",
              "60      male\n",
              "Name: Gender, dtype: object"
            ]
          },
          "metadata": {},
          "execution_count": 155
        }
      ],
      "source": [
        "df_clean['Gender'].replace({'Male' : 'male', 'fmeale' : 'female'})"
      ]
    },
    {
      "cell_type": "code",
      "source": [
        "df_clean['Gender'].unique()"
      ],
      "metadata": {
        "colab": {
          "base_uri": "https://localhost:8080/"
        },
        "id": "NSOl7qMXOwi-",
        "outputId": "c8c8faf9-3863-43a3-9ecc-26e4898a3398"
      },
      "id": "NSOl7qMXOwi-",
      "execution_count": 156,
      "outputs": [
        {
          "output_type": "execute_result",
          "data": {
            "text/plain": [
              "array(['male', 'female', 'Male', 'fmeale'], dtype=object)"
            ]
          },
          "metadata": {},
          "execution_count": 156
        }
      ]
    },
    {
      "cell_type": "markdown",
      "id": "69ae9177-eceb-4977-8227-d9906cf5b7f0",
      "metadata": {
        "id": "69ae9177-eceb-4977-8227-d9906cf5b7f0"
      },
      "source": [
        "##### [A] Fix the data in the `'Mode'` column.\n",
        "> Hint: Check for lower and upper case entries"
      ]
    },
    {
      "cell_type": "code",
      "execution_count": 157,
      "id": "82765794-8a9a-46bb-895b-76b427dcd63b",
      "metadata": {
        "colab": {
          "base_uri": "https://localhost:8080/"
        },
        "id": "82765794-8a9a-46bb-895b-76b427dcd63b",
        "outputId": "7bba8b65-adfc-45c9-9f12-7c46cdd2153d"
      },
      "outputs": [
        {
          "output_type": "execute_result",
          "data": {
            "text/plain": [
              "array(['d', 'e', 'f', 'g', '_', 'F', 'h', 'a'], dtype=object)"
            ]
          },
          "metadata": {},
          "execution_count": 157
        }
      ],
      "source": [
        "df_clean['Mode'].unique()"
      ]
    },
    {
      "cell_type": "code",
      "source": [
        "df_clean['Mode'].replace({'F' : 'f'})\n"
      ],
      "metadata": {
        "colab": {
          "base_uri": "https://localhost:8080/"
        },
        "id": "Bc1qi9gmQOWX",
        "outputId": "0dbb0912-6830-4229-d970-efc15befff55"
      },
      "id": "Bc1qi9gmQOWX",
      "execution_count": 158,
      "outputs": [
        {
          "output_type": "execute_result",
          "data": {
            "text/plain": [
              "0     d\n",
              "1     e\n",
              "2     f\n",
              "3     g\n",
              "4     d\n",
              "5     g\n",
              "6     _\n",
              "7     f\n",
              "8     f\n",
              "9     f\n",
              "10    _\n",
              "11    e\n",
              "12    f\n",
              "13    f\n",
              "14    f\n",
              "15    e\n",
              "16    e\n",
              "17    d\n",
              "18    _\n",
              "19    f\n",
              "20    e\n",
              "21    f\n",
              "22    g\n",
              "23    f\n",
              "24    e\n",
              "25    f\n",
              "26    e\n",
              "27    e\n",
              "28    _\n",
              "29    g\n",
              "30    e\n",
              "31    f\n",
              "32    f\n",
              "33    f\n",
              "34    e\n",
              "35    f\n",
              "36    f\n",
              "37    h\n",
              "38    e\n",
              "39    d\n",
              "40    f\n",
              "41    g\n",
              "42    g\n",
              "43    e\n",
              "44    f\n",
              "45    e\n",
              "46    f\n",
              "47    f\n",
              "48    d\n",
              "49    f\n",
              "50    e\n",
              "51    f\n",
              "52    a\n",
              "53    f\n",
              "54    _\n",
              "55    e\n",
              "56    e\n",
              "57    e\n",
              "58    f\n",
              "59    e\n",
              "60    f\n",
              "Name: Mode, dtype: object"
            ]
          },
          "metadata": {},
          "execution_count": 158
        }
      ]
    },
    {
      "cell_type": "markdown",
      "id": "48d322d7-bc39-4be1-935e-0d3c81f31213",
      "metadata": {
        "id": "48d322d7-bc39-4be1-935e-0d3c81f31213"
      },
      "source": [
        "### Setting The Correct Data Type"
      ]
    },
    {
      "cell_type": "markdown",
      "id": "4034b5b1-21d2-4aad-a413-dcfe508e0035",
      "metadata": {
        "id": "4034b5b1-21d2-4aad-a413-dcfe508e0035"
      },
      "source": [
        "##### [A] Change the `'Q'` column to numeric data `type(float64)` instead of `'object'`."
      ]
    },
    {
      "cell_type": "code",
      "source": [
        "df_clean.head()"
      ],
      "metadata": {
        "colab": {
          "base_uri": "https://localhost:8080/",
          "height": 330
        },
        "id": "6-SQLx96RwGl",
        "outputId": "8037e145-18b6-4d08-ae14-5113f5240c86"
      },
      "id": "6-SQLx96RwGl",
      "execution_count": 159,
      "outputs": [
        {
          "output_type": "execute_result",
          "data": {
            "text/plain": [
              "  Examination Date                 Name  Gender  Age Mode                   Q  \\\n",
              "0       2011-06-10          Cody Watson    male   72    d                   _   \n",
              "1       2011-02-20        Jonathan Duke    male    9    e  104.08763319576146   \n",
              "2       2011-06-27  Charlene Houseworth  female   59    f  102.90431521853222   \n",
              "3       2010-09-22        Gregory Curci    Male   23    g  152.65165533060298   \n",
              "4       2011-06-10          Cody Watson    male   72    d                   _   \n",
              "\n",
              "         M1        DD Diagnosis  \n",
              "0  5.058993  1.481877  negative  \n",
              "1  6.531724  2.266884  negative  \n",
              "2  6.273313  0.396333  positive  \n",
              "3  7.333626  0.557534  positive  \n",
              "4  5.058993  1.481877  negative  "
            ],
            "text/html": [
              "\n",
              "  <div id=\"df-e15506d8-0d11-45c2-a779-d4013420b2fd\" class=\"colab-df-container\">\n",
              "    <div>\n",
              "<style scoped>\n",
              "    .dataframe tbody tr th:only-of-type {\n",
              "        vertical-align: middle;\n",
              "    }\n",
              "\n",
              "    .dataframe tbody tr th {\n",
              "        vertical-align: top;\n",
              "    }\n",
              "\n",
              "    .dataframe thead th {\n",
              "        text-align: right;\n",
              "    }\n",
              "</style>\n",
              "<table border=\"1\" class=\"dataframe\">\n",
              "  <thead>\n",
              "    <tr style=\"text-align: right;\">\n",
              "      <th></th>\n",
              "      <th>Examination Date</th>\n",
              "      <th>Name</th>\n",
              "      <th>Gender</th>\n",
              "      <th>Age</th>\n",
              "      <th>Mode</th>\n",
              "      <th>Q</th>\n",
              "      <th>M1</th>\n",
              "      <th>DD</th>\n",
              "      <th>Diagnosis</th>\n",
              "    </tr>\n",
              "  </thead>\n",
              "  <tbody>\n",
              "    <tr>\n",
              "      <th>0</th>\n",
              "      <td>2011-06-10</td>\n",
              "      <td>Cody Watson</td>\n",
              "      <td>male</td>\n",
              "      <td>72</td>\n",
              "      <td>d</td>\n",
              "      <td>_</td>\n",
              "      <td>5.058993</td>\n",
              "      <td>1.481877</td>\n",
              "      <td>negative</td>\n",
              "    </tr>\n",
              "    <tr>\n",
              "      <th>1</th>\n",
              "      <td>2011-02-20</td>\n",
              "      <td>Jonathan Duke</td>\n",
              "      <td>male</td>\n",
              "      <td>9</td>\n",
              "      <td>e</td>\n",
              "      <td>104.08763319576146</td>\n",
              "      <td>6.531724</td>\n",
              "      <td>2.266884</td>\n",
              "      <td>negative</td>\n",
              "    </tr>\n",
              "    <tr>\n",
              "      <th>2</th>\n",
              "      <td>2011-06-27</td>\n",
              "      <td>Charlene Houseworth</td>\n",
              "      <td>female</td>\n",
              "      <td>59</td>\n",
              "      <td>f</td>\n",
              "      <td>102.90431521853222</td>\n",
              "      <td>6.273313</td>\n",
              "      <td>0.396333</td>\n",
              "      <td>positive</td>\n",
              "    </tr>\n",
              "    <tr>\n",
              "      <th>3</th>\n",
              "      <td>2010-09-22</td>\n",
              "      <td>Gregory Curci</td>\n",
              "      <td>Male</td>\n",
              "      <td>23</td>\n",
              "      <td>g</td>\n",
              "      <td>152.65165533060298</td>\n",
              "      <td>7.333626</td>\n",
              "      <td>0.557534</td>\n",
              "      <td>positive</td>\n",
              "    </tr>\n",
              "    <tr>\n",
              "      <th>4</th>\n",
              "      <td>2011-06-10</td>\n",
              "      <td>Cody Watson</td>\n",
              "      <td>male</td>\n",
              "      <td>72</td>\n",
              "      <td>d</td>\n",
              "      <td>_</td>\n",
              "      <td>5.058993</td>\n",
              "      <td>1.481877</td>\n",
              "      <td>negative</td>\n",
              "    </tr>\n",
              "  </tbody>\n",
              "</table>\n",
              "</div>\n",
              "    <div class=\"colab-df-buttons\">\n",
              "\n",
              "  <div class=\"colab-df-container\">\n",
              "    <button class=\"colab-df-convert\" onclick=\"convertToInteractive('df-e15506d8-0d11-45c2-a779-d4013420b2fd')\"\n",
              "            title=\"Convert this dataframe to an interactive table.\"\n",
              "            style=\"display:none;\">\n",
              "\n",
              "  <svg xmlns=\"http://www.w3.org/2000/svg\" height=\"24px\" viewBox=\"0 -960 960 960\">\n",
              "    <path d=\"M120-120v-720h720v720H120Zm60-500h600v-160H180v160Zm220 220h160v-160H400v160Zm0 220h160v-160H400v160ZM180-400h160v-160H180v160Zm440 0h160v-160H620v160ZM180-180h160v-160H180v160Zm440 0h160v-160H620v160Z\"/>\n",
              "  </svg>\n",
              "    </button>\n",
              "\n",
              "  <style>\n",
              "    .colab-df-container {\n",
              "      display:flex;\n",
              "      gap: 12px;\n",
              "    }\n",
              "\n",
              "    .colab-df-convert {\n",
              "      background-color: #E8F0FE;\n",
              "      border: none;\n",
              "      border-radius: 50%;\n",
              "      cursor: pointer;\n",
              "      display: none;\n",
              "      fill: #1967D2;\n",
              "      height: 32px;\n",
              "      padding: 0 0 0 0;\n",
              "      width: 32px;\n",
              "    }\n",
              "\n",
              "    .colab-df-convert:hover {\n",
              "      background-color: #E2EBFA;\n",
              "      box-shadow: 0px 1px 2px rgba(60, 64, 67, 0.3), 0px 1px 3px 1px rgba(60, 64, 67, 0.15);\n",
              "      fill: #174EA6;\n",
              "    }\n",
              "\n",
              "    .colab-df-buttons div {\n",
              "      margin-bottom: 4px;\n",
              "    }\n",
              "\n",
              "    [theme=dark] .colab-df-convert {\n",
              "      background-color: #3B4455;\n",
              "      fill: #D2E3FC;\n",
              "    }\n",
              "\n",
              "    [theme=dark] .colab-df-convert:hover {\n",
              "      background-color: #434B5C;\n",
              "      box-shadow: 0px 1px 3px 1px rgba(0, 0, 0, 0.15);\n",
              "      filter: drop-shadow(0px 1px 2px rgba(0, 0, 0, 0.3));\n",
              "      fill: #FFFFFF;\n",
              "    }\n",
              "  </style>\n",
              "\n",
              "    <script>\n",
              "      const buttonEl =\n",
              "        document.querySelector('#df-e15506d8-0d11-45c2-a779-d4013420b2fd button.colab-df-convert');\n",
              "      buttonEl.style.display =\n",
              "        google.colab.kernel.accessAllowed ? 'block' : 'none';\n",
              "\n",
              "      async function convertToInteractive(key) {\n",
              "        const element = document.querySelector('#df-e15506d8-0d11-45c2-a779-d4013420b2fd');\n",
              "        const dataTable =\n",
              "          await google.colab.kernel.invokeFunction('convertToInteractive',\n",
              "                                                    [key], {});\n",
              "        if (!dataTable) return;\n",
              "\n",
              "        const docLinkHtml = 'Like what you see? Visit the ' +\n",
              "          '<a target=\"_blank\" href=https://colab.research.google.com/notebooks/data_table.ipynb>data table notebook</a>'\n",
              "          + ' to learn more about interactive tables.';\n",
              "        element.innerHTML = '';\n",
              "        dataTable['output_type'] = 'display_data';\n",
              "        await google.colab.output.renderOutput(dataTable, element);\n",
              "        const docLink = document.createElement('div');\n",
              "        docLink.innerHTML = docLinkHtml;\n",
              "        element.appendChild(docLink);\n",
              "      }\n",
              "    </script>\n",
              "  </div>\n",
              "\n",
              "\n",
              "<div id=\"df-c4f52eac-e339-4ca1-a883-1131decbe7d5\">\n",
              "  <button class=\"colab-df-quickchart\" onclick=\"quickchart('df-c4f52eac-e339-4ca1-a883-1131decbe7d5')\"\n",
              "            title=\"Suggest charts.\"\n",
              "            style=\"display:none;\">\n",
              "\n",
              "<svg xmlns=\"http://www.w3.org/2000/svg\" height=\"24px\"viewBox=\"0 0 24 24\"\n",
              "     width=\"24px\">\n",
              "    <g>\n",
              "        <path d=\"M19 3H5c-1.1 0-2 .9-2 2v14c0 1.1.9 2 2 2h14c1.1 0 2-.9 2-2V5c0-1.1-.9-2-2-2zM9 17H7v-7h2v7zm4 0h-2V7h2v10zm4 0h-2v-4h2v4z\"/>\n",
              "    </g>\n",
              "</svg>\n",
              "  </button>\n",
              "\n",
              "<style>\n",
              "  .colab-df-quickchart {\n",
              "      --bg-color: #E8F0FE;\n",
              "      --fill-color: #1967D2;\n",
              "      --hover-bg-color: #E2EBFA;\n",
              "      --hover-fill-color: #174EA6;\n",
              "      --disabled-fill-color: #AAA;\n",
              "      --disabled-bg-color: #DDD;\n",
              "  }\n",
              "\n",
              "  [theme=dark] .colab-df-quickchart {\n",
              "      --bg-color: #3B4455;\n",
              "      --fill-color: #D2E3FC;\n",
              "      --hover-bg-color: #434B5C;\n",
              "      --hover-fill-color: #FFFFFF;\n",
              "      --disabled-bg-color: #3B4455;\n",
              "      --disabled-fill-color: #666;\n",
              "  }\n",
              "\n",
              "  .colab-df-quickchart {\n",
              "    background-color: var(--bg-color);\n",
              "    border: none;\n",
              "    border-radius: 50%;\n",
              "    cursor: pointer;\n",
              "    display: none;\n",
              "    fill: var(--fill-color);\n",
              "    height: 32px;\n",
              "    padding: 0;\n",
              "    width: 32px;\n",
              "  }\n",
              "\n",
              "  .colab-df-quickchart:hover {\n",
              "    background-color: var(--hover-bg-color);\n",
              "    box-shadow: 0 1px 2px rgba(60, 64, 67, 0.3), 0 1px 3px 1px rgba(60, 64, 67, 0.15);\n",
              "    fill: var(--button-hover-fill-color);\n",
              "  }\n",
              "\n",
              "  .colab-df-quickchart-complete:disabled,\n",
              "  .colab-df-quickchart-complete:disabled:hover {\n",
              "    background-color: var(--disabled-bg-color);\n",
              "    fill: var(--disabled-fill-color);\n",
              "    box-shadow: none;\n",
              "  }\n",
              "\n",
              "  .colab-df-spinner {\n",
              "    border: 2px solid var(--fill-color);\n",
              "    border-color: transparent;\n",
              "    border-bottom-color: var(--fill-color);\n",
              "    animation:\n",
              "      spin 1s steps(1) infinite;\n",
              "  }\n",
              "\n",
              "  @keyframes spin {\n",
              "    0% {\n",
              "      border-color: transparent;\n",
              "      border-bottom-color: var(--fill-color);\n",
              "      border-left-color: var(--fill-color);\n",
              "    }\n",
              "    20% {\n",
              "      border-color: transparent;\n",
              "      border-left-color: var(--fill-color);\n",
              "      border-top-color: var(--fill-color);\n",
              "    }\n",
              "    30% {\n",
              "      border-color: transparent;\n",
              "      border-left-color: var(--fill-color);\n",
              "      border-top-color: var(--fill-color);\n",
              "      border-right-color: var(--fill-color);\n",
              "    }\n",
              "    40% {\n",
              "      border-color: transparent;\n",
              "      border-right-color: var(--fill-color);\n",
              "      border-top-color: var(--fill-color);\n",
              "    }\n",
              "    60% {\n",
              "      border-color: transparent;\n",
              "      border-right-color: var(--fill-color);\n",
              "    }\n",
              "    80% {\n",
              "      border-color: transparent;\n",
              "      border-right-color: var(--fill-color);\n",
              "      border-bottom-color: var(--fill-color);\n",
              "    }\n",
              "    90% {\n",
              "      border-color: transparent;\n",
              "      border-bottom-color: var(--fill-color);\n",
              "    }\n",
              "  }\n",
              "</style>\n",
              "\n",
              "  <script>\n",
              "    async function quickchart(key) {\n",
              "      const quickchartButtonEl =\n",
              "        document.querySelector('#' + key + ' button');\n",
              "      quickchartButtonEl.disabled = true;  // To prevent multiple clicks.\n",
              "      quickchartButtonEl.classList.add('colab-df-spinner');\n",
              "      try {\n",
              "        const charts = await google.colab.kernel.invokeFunction(\n",
              "            'suggestCharts', [key], {});\n",
              "      } catch (error) {\n",
              "        console.error('Error during call to suggestCharts:', error);\n",
              "      }\n",
              "      quickchartButtonEl.classList.remove('colab-df-spinner');\n",
              "      quickchartButtonEl.classList.add('colab-df-quickchart-complete');\n",
              "    }\n",
              "    (() => {\n",
              "      let quickchartButtonEl =\n",
              "        document.querySelector('#df-c4f52eac-e339-4ca1-a883-1131decbe7d5 button');\n",
              "      quickchartButtonEl.style.display =\n",
              "        google.colab.kernel.accessAllowed ? 'block' : 'none';\n",
              "    })();\n",
              "  </script>\n",
              "</div>\n",
              "    </div>\n",
              "  </div>\n"
            ]
          },
          "metadata": {},
          "execution_count": 159
        }
      ]
    },
    {
      "cell_type": "code",
      "execution_count": 160,
      "id": "dc20030a-b154-4ca2-ab67-6cf17524a670",
      "metadata": {
        "id": "dc20030a-b154-4ca2-ab67-6cf17524a670"
      },
      "outputs": [],
      "source": [
        "df_clean['Q'] = pd.to_numeric(df_clean['Q'], errors = 'coerce')"
      ]
    },
    {
      "cell_type": "markdown",
      "id": "11572196-7068-40c2-be88-6481e71cf13c",
      "metadata": {
        "id": "11572196-7068-40c2-be88-6481e71cf13c"
      },
      "source": [
        "##### [A] Convert `'Examination date'` column to `datetime` type."
      ]
    },
    {
      "cell_type": "code",
      "execution_count": 161,
      "id": "728cf77d-330b-4e88-b300-8abbcd47ee3a",
      "metadata": {
        "id": "728cf77d-330b-4e88-b300-8abbcd47ee3a"
      },
      "outputs": [],
      "source": [
        "df_clean['Examination Date'] = pd.to_datetime(df_clean['Examination Date'])"
      ]
    },
    {
      "cell_type": "code",
      "source": [
        "df_clean['Mode'].unique()"
      ],
      "metadata": {
        "colab": {
          "base_uri": "https://localhost:8080/"
        },
        "id": "AsDHs5P6W1jV",
        "outputId": "45a606f4-6510-4cfb-8a2e-0f0476c65700"
      },
      "id": "AsDHs5P6W1jV",
      "execution_count": 162,
      "outputs": [
        {
          "output_type": "execute_result",
          "data": {
            "text/plain": [
              "array(['d', 'e', 'f', 'g', '_', 'F', 'h', 'a'], dtype=object)"
            ]
          },
          "metadata": {},
          "execution_count": 162
        }
      ]
    },
    {
      "cell_type": "markdown",
      "id": "5e98bef6-00d8-4a66-be21-80a92664908a",
      "metadata": {
        "id": "5e98bef6-00d8-4a66-be21-80a92664908a"
      },
      "source": [
        "##### Using the `gender_type` key we set the `'Gender'` column as categorical data."
      ]
    },
    {
      "cell_type": "code",
      "execution_count": 163,
      "id": "9345b815-4aef-49fa-9155-5276abf2e6a8",
      "metadata": {
        "id": "9345b815-4aef-49fa-9155-5276abf2e6a8"
      },
      "outputs": [],
      "source": [
        "gender_type = pd.CategoricalDtype(categories=[\"female\", \"male\"])\n",
        "\n",
        "df_clean[\"Gender\"] = df_clean[\"Gender\"].astype(gender_type)"
      ]
    },
    {
      "cell_type": "code",
      "source": [
        "df_clean.dtypes"
      ],
      "metadata": {
        "colab": {
          "base_uri": "https://localhost:8080/"
        },
        "id": "BhjeG4kdXr8M",
        "outputId": "99a6cdb9-cd18-46d0-8431-6b49dbea631d"
      },
      "id": "BhjeG4kdXr8M",
      "execution_count": 164,
      "outputs": [
        {
          "output_type": "execute_result",
          "data": {
            "text/plain": [
              "Examination Date    datetime64[ns]\n",
              "Name                        object\n",
              "Gender                    category\n",
              "Age                          int64\n",
              "Mode                        object\n",
              "Q                          float64\n",
              "M1                         float64\n",
              "DD                         float64\n",
              "Diagnosis                   object\n",
              "dtype: object"
            ]
          },
          "metadata": {},
          "execution_count": 164
        }
      ]
    },
    {
      "cell_type": "markdown",
      "id": "1c61d3ca-737b-472d-bc66-d5dccdbc00b0",
      "metadata": {
        "id": "1c61d3ca-737b-472d-bc66-d5dccdbc00b0"
      },
      "source": [
        "##### [A] Replicate how we changed the gender column to categorical but this time for the `'Mode'` column."
      ]
    },
    {
      "cell_type": "code",
      "execution_count": 165,
      "id": "09905a94-61fd-4891-b097-d61658e82d9d",
      "metadata": {
        "id": "09905a94-61fd-4891-b097-d61658e82d9d"
      },
      "outputs": [],
      "source": [
        "mode_type = pd.CategoricalDtype(categories=['d', 'e', 'f', 'g', '_', 'h', 'a'])\n",
        "df_clean[\"Mode\"] = df_clean[\"Mode\"].astype(mode_type)"
      ]
    },
    {
      "cell_type": "markdown",
      "id": "aa325c6b-0c84-4fe2-a54e-a07f22a067d9",
      "metadata": {
        "id": "aa325c6b-0c84-4fe2-a54e-a07f22a067d9"
      },
      "source": [
        "##### [A] Again, change the `'Diagnosis'` column to categorical replicating above the example above."
      ]
    },
    {
      "cell_type": "code",
      "execution_count": 166,
      "id": "66d4542f-0409-43e2-af4f-86134237f6de",
      "metadata": {
        "id": "66d4542f-0409-43e2-af4f-86134237f6de"
      },
      "outputs": [],
      "source": [
        "diag_type = pd.CategoricalDtype(categories=['negative', 'positive', '_'])\n",
        "df_clean[\"Diagnosis\"] = df_clean[\"Diagnosis\"].astype(diag_type)"
      ]
    },
    {
      "cell_type": "markdown",
      "id": "f678522d-8a66-48c0-be72-bc5184911333",
      "metadata": {
        "tags": [],
        "id": "f678522d-8a66-48c0-be72-bc5184911333"
      },
      "source": [
        "### Duplicate Entries\n",
        "- Duplicate entities in a dataset is not good to have as it  can use overfit and is redundant information"
      ]
    },
    {
      "cell_type": "markdown",
      "id": "4ecfb49c-fbdf-4ab0-9be1-6936ce9e7006",
      "metadata": {
        "id": "4ecfb49c-fbdf-4ab0-9be1-6936ce9e7006"
      },
      "source": [
        "##### [A] Check for duplicate entries and delete them"
      ]
    },
    {
      "cell_type": "code",
      "source": [
        "duplicate_rows = df_clean.duplicated()\n",
        "display(duplicate_rows)"
      ],
      "metadata": {
        "colab": {
          "base_uri": "https://localhost:8080/",
          "height": 1000
        },
        "id": "OYK9PTloagut",
        "outputId": "2a8a7856-f561-4fa4-ffa6-caeb56f144ba"
      },
      "id": "OYK9PTloagut",
      "execution_count": 167,
      "outputs": [
        {
          "output_type": "display_data",
          "data": {
            "text/plain": [
              "0     False\n",
              "1     False\n",
              "2     False\n",
              "3     False\n",
              "4      True\n",
              "5     False\n",
              "6     False\n",
              "7     False\n",
              "8     False\n",
              "9     False\n",
              "10    False\n",
              "11    False\n",
              "12    False\n",
              "13    False\n",
              "14    False\n",
              "15    False\n",
              "16    False\n",
              "17    False\n",
              "18    False\n",
              "19    False\n",
              "20    False\n",
              "21    False\n",
              "22    False\n",
              "23    False\n",
              "24    False\n",
              "25    False\n",
              "26    False\n",
              "27    False\n",
              "28    False\n",
              "29    False\n",
              "30    False\n",
              "31    False\n",
              "32    False\n",
              "33    False\n",
              "34    False\n",
              "35    False\n",
              "36     True\n",
              "37    False\n",
              "38    False\n",
              "39    False\n",
              "40    False\n",
              "41    False\n",
              "42    False\n",
              "43    False\n",
              "44    False\n",
              "45    False\n",
              "46    False\n",
              "47    False\n",
              "48    False\n",
              "49    False\n",
              "50    False\n",
              "51    False\n",
              "52    False\n",
              "53    False\n",
              "54    False\n",
              "55    False\n",
              "56    False\n",
              "57    False\n",
              "58    False\n",
              "59    False\n",
              "60    False\n",
              "dtype: bool"
            ]
          },
          "metadata": {}
        }
      ]
    },
    {
      "cell_type": "code",
      "source": [
        "df_clean = df_clean[~duplicate_rows]\n",
        "df_clean.head()"
      ],
      "metadata": {
        "colab": {
          "base_uri": "https://localhost:8080/",
          "height": 330
        },
        "id": "Yi9UIg7KbARh",
        "outputId": "83de83a5-c2dc-4740-927a-04aed9d77a80"
      },
      "id": "Yi9UIg7KbARh",
      "execution_count": 168,
      "outputs": [
        {
          "output_type": "execute_result",
          "data": {
            "text/plain": [
              "  Examination Date                 Name  Gender  Age Mode           Q  \\\n",
              "0       2011-06-10          Cody Watson    male   72    d         NaN   \n",
              "1       2011-02-20        Jonathan Duke    male    9    e  104.087633   \n",
              "2       2011-06-27  Charlene Houseworth  female   59    f  102.904315   \n",
              "3       2010-09-22        Gregory Curci     NaN   23    g  152.651655   \n",
              "5       2011-07-21        Linda Sawicki  female   17    g   67.239054   \n",
              "\n",
              "         M1        DD Diagnosis  \n",
              "0  5.058993  1.481877  negative  \n",
              "1  6.531724  2.266884  negative  \n",
              "2  6.273313  0.396333  positive  \n",
              "3  7.333626  0.557534  positive  \n",
              "5  3.642516  3.765706  positive  "
            ],
            "text/html": [
              "\n",
              "  <div id=\"df-0e53125a-efb8-4eff-aecf-c4ea138a2b0e\" class=\"colab-df-container\">\n",
              "    <div>\n",
              "<style scoped>\n",
              "    .dataframe tbody tr th:only-of-type {\n",
              "        vertical-align: middle;\n",
              "    }\n",
              "\n",
              "    .dataframe tbody tr th {\n",
              "        vertical-align: top;\n",
              "    }\n",
              "\n",
              "    .dataframe thead th {\n",
              "        text-align: right;\n",
              "    }\n",
              "</style>\n",
              "<table border=\"1\" class=\"dataframe\">\n",
              "  <thead>\n",
              "    <tr style=\"text-align: right;\">\n",
              "      <th></th>\n",
              "      <th>Examination Date</th>\n",
              "      <th>Name</th>\n",
              "      <th>Gender</th>\n",
              "      <th>Age</th>\n",
              "      <th>Mode</th>\n",
              "      <th>Q</th>\n",
              "      <th>M1</th>\n",
              "      <th>DD</th>\n",
              "      <th>Diagnosis</th>\n",
              "    </tr>\n",
              "  </thead>\n",
              "  <tbody>\n",
              "    <tr>\n",
              "      <th>0</th>\n",
              "      <td>2011-06-10</td>\n",
              "      <td>Cody Watson</td>\n",
              "      <td>male</td>\n",
              "      <td>72</td>\n",
              "      <td>d</td>\n",
              "      <td>NaN</td>\n",
              "      <td>5.058993</td>\n",
              "      <td>1.481877</td>\n",
              "      <td>negative</td>\n",
              "    </tr>\n",
              "    <tr>\n",
              "      <th>1</th>\n",
              "      <td>2011-02-20</td>\n",
              "      <td>Jonathan Duke</td>\n",
              "      <td>male</td>\n",
              "      <td>9</td>\n",
              "      <td>e</td>\n",
              "      <td>104.087633</td>\n",
              "      <td>6.531724</td>\n",
              "      <td>2.266884</td>\n",
              "      <td>negative</td>\n",
              "    </tr>\n",
              "    <tr>\n",
              "      <th>2</th>\n",
              "      <td>2011-06-27</td>\n",
              "      <td>Charlene Houseworth</td>\n",
              "      <td>female</td>\n",
              "      <td>59</td>\n",
              "      <td>f</td>\n",
              "      <td>102.904315</td>\n",
              "      <td>6.273313</td>\n",
              "      <td>0.396333</td>\n",
              "      <td>positive</td>\n",
              "    </tr>\n",
              "    <tr>\n",
              "      <th>3</th>\n",
              "      <td>2010-09-22</td>\n",
              "      <td>Gregory Curci</td>\n",
              "      <td>NaN</td>\n",
              "      <td>23</td>\n",
              "      <td>g</td>\n",
              "      <td>152.651655</td>\n",
              "      <td>7.333626</td>\n",
              "      <td>0.557534</td>\n",
              "      <td>positive</td>\n",
              "    </tr>\n",
              "    <tr>\n",
              "      <th>5</th>\n",
              "      <td>2011-07-21</td>\n",
              "      <td>Linda Sawicki</td>\n",
              "      <td>female</td>\n",
              "      <td>17</td>\n",
              "      <td>g</td>\n",
              "      <td>67.239054</td>\n",
              "      <td>3.642516</td>\n",
              "      <td>3.765706</td>\n",
              "      <td>positive</td>\n",
              "    </tr>\n",
              "  </tbody>\n",
              "</table>\n",
              "</div>\n",
              "    <div class=\"colab-df-buttons\">\n",
              "\n",
              "  <div class=\"colab-df-container\">\n",
              "    <button class=\"colab-df-convert\" onclick=\"convertToInteractive('df-0e53125a-efb8-4eff-aecf-c4ea138a2b0e')\"\n",
              "            title=\"Convert this dataframe to an interactive table.\"\n",
              "            style=\"display:none;\">\n",
              "\n",
              "  <svg xmlns=\"http://www.w3.org/2000/svg\" height=\"24px\" viewBox=\"0 -960 960 960\">\n",
              "    <path d=\"M120-120v-720h720v720H120Zm60-500h600v-160H180v160Zm220 220h160v-160H400v160Zm0 220h160v-160H400v160ZM180-400h160v-160H180v160Zm440 0h160v-160H620v160ZM180-180h160v-160H180v160Zm440 0h160v-160H620v160Z\"/>\n",
              "  </svg>\n",
              "    </button>\n",
              "\n",
              "  <style>\n",
              "    .colab-df-container {\n",
              "      display:flex;\n",
              "      gap: 12px;\n",
              "    }\n",
              "\n",
              "    .colab-df-convert {\n",
              "      background-color: #E8F0FE;\n",
              "      border: none;\n",
              "      border-radius: 50%;\n",
              "      cursor: pointer;\n",
              "      display: none;\n",
              "      fill: #1967D2;\n",
              "      height: 32px;\n",
              "      padding: 0 0 0 0;\n",
              "      width: 32px;\n",
              "    }\n",
              "\n",
              "    .colab-df-convert:hover {\n",
              "      background-color: #E2EBFA;\n",
              "      box-shadow: 0px 1px 2px rgba(60, 64, 67, 0.3), 0px 1px 3px 1px rgba(60, 64, 67, 0.15);\n",
              "      fill: #174EA6;\n",
              "    }\n",
              "\n",
              "    .colab-df-buttons div {\n",
              "      margin-bottom: 4px;\n",
              "    }\n",
              "\n",
              "    [theme=dark] .colab-df-convert {\n",
              "      background-color: #3B4455;\n",
              "      fill: #D2E3FC;\n",
              "    }\n",
              "\n",
              "    [theme=dark] .colab-df-convert:hover {\n",
              "      background-color: #434B5C;\n",
              "      box-shadow: 0px 1px 3px 1px rgba(0, 0, 0, 0.15);\n",
              "      filter: drop-shadow(0px 1px 2px rgba(0, 0, 0, 0.3));\n",
              "      fill: #FFFFFF;\n",
              "    }\n",
              "  </style>\n",
              "\n",
              "    <script>\n",
              "      const buttonEl =\n",
              "        document.querySelector('#df-0e53125a-efb8-4eff-aecf-c4ea138a2b0e button.colab-df-convert');\n",
              "      buttonEl.style.display =\n",
              "        google.colab.kernel.accessAllowed ? 'block' : 'none';\n",
              "\n",
              "      async function convertToInteractive(key) {\n",
              "        const element = document.querySelector('#df-0e53125a-efb8-4eff-aecf-c4ea138a2b0e');\n",
              "        const dataTable =\n",
              "          await google.colab.kernel.invokeFunction('convertToInteractive',\n",
              "                                                    [key], {});\n",
              "        if (!dataTable) return;\n",
              "\n",
              "        const docLinkHtml = 'Like what you see? Visit the ' +\n",
              "          '<a target=\"_blank\" href=https://colab.research.google.com/notebooks/data_table.ipynb>data table notebook</a>'\n",
              "          + ' to learn more about interactive tables.';\n",
              "        element.innerHTML = '';\n",
              "        dataTable['output_type'] = 'display_data';\n",
              "        await google.colab.output.renderOutput(dataTable, element);\n",
              "        const docLink = document.createElement('div');\n",
              "        docLink.innerHTML = docLinkHtml;\n",
              "        element.appendChild(docLink);\n",
              "      }\n",
              "    </script>\n",
              "  </div>\n",
              "\n",
              "\n",
              "<div id=\"df-1c245194-1ad5-443b-b842-0bb78c283870\">\n",
              "  <button class=\"colab-df-quickchart\" onclick=\"quickchart('df-1c245194-1ad5-443b-b842-0bb78c283870')\"\n",
              "            title=\"Suggest charts.\"\n",
              "            style=\"display:none;\">\n",
              "\n",
              "<svg xmlns=\"http://www.w3.org/2000/svg\" height=\"24px\"viewBox=\"0 0 24 24\"\n",
              "     width=\"24px\">\n",
              "    <g>\n",
              "        <path d=\"M19 3H5c-1.1 0-2 .9-2 2v14c0 1.1.9 2 2 2h14c1.1 0 2-.9 2-2V5c0-1.1-.9-2-2-2zM9 17H7v-7h2v7zm4 0h-2V7h2v10zm4 0h-2v-4h2v4z\"/>\n",
              "    </g>\n",
              "</svg>\n",
              "  </button>\n",
              "\n",
              "<style>\n",
              "  .colab-df-quickchart {\n",
              "      --bg-color: #E8F0FE;\n",
              "      --fill-color: #1967D2;\n",
              "      --hover-bg-color: #E2EBFA;\n",
              "      --hover-fill-color: #174EA6;\n",
              "      --disabled-fill-color: #AAA;\n",
              "      --disabled-bg-color: #DDD;\n",
              "  }\n",
              "\n",
              "  [theme=dark] .colab-df-quickchart {\n",
              "      --bg-color: #3B4455;\n",
              "      --fill-color: #D2E3FC;\n",
              "      --hover-bg-color: #434B5C;\n",
              "      --hover-fill-color: #FFFFFF;\n",
              "      --disabled-bg-color: #3B4455;\n",
              "      --disabled-fill-color: #666;\n",
              "  }\n",
              "\n",
              "  .colab-df-quickchart {\n",
              "    background-color: var(--bg-color);\n",
              "    border: none;\n",
              "    border-radius: 50%;\n",
              "    cursor: pointer;\n",
              "    display: none;\n",
              "    fill: var(--fill-color);\n",
              "    height: 32px;\n",
              "    padding: 0;\n",
              "    width: 32px;\n",
              "  }\n",
              "\n",
              "  .colab-df-quickchart:hover {\n",
              "    background-color: var(--hover-bg-color);\n",
              "    box-shadow: 0 1px 2px rgba(60, 64, 67, 0.3), 0 1px 3px 1px rgba(60, 64, 67, 0.15);\n",
              "    fill: var(--button-hover-fill-color);\n",
              "  }\n",
              "\n",
              "  .colab-df-quickchart-complete:disabled,\n",
              "  .colab-df-quickchart-complete:disabled:hover {\n",
              "    background-color: var(--disabled-bg-color);\n",
              "    fill: var(--disabled-fill-color);\n",
              "    box-shadow: none;\n",
              "  }\n",
              "\n",
              "  .colab-df-spinner {\n",
              "    border: 2px solid var(--fill-color);\n",
              "    border-color: transparent;\n",
              "    border-bottom-color: var(--fill-color);\n",
              "    animation:\n",
              "      spin 1s steps(1) infinite;\n",
              "  }\n",
              "\n",
              "  @keyframes spin {\n",
              "    0% {\n",
              "      border-color: transparent;\n",
              "      border-bottom-color: var(--fill-color);\n",
              "      border-left-color: var(--fill-color);\n",
              "    }\n",
              "    20% {\n",
              "      border-color: transparent;\n",
              "      border-left-color: var(--fill-color);\n",
              "      border-top-color: var(--fill-color);\n",
              "    }\n",
              "    30% {\n",
              "      border-color: transparent;\n",
              "      border-left-color: var(--fill-color);\n",
              "      border-top-color: var(--fill-color);\n",
              "      border-right-color: var(--fill-color);\n",
              "    }\n",
              "    40% {\n",
              "      border-color: transparent;\n",
              "      border-right-color: var(--fill-color);\n",
              "      border-top-color: var(--fill-color);\n",
              "    }\n",
              "    60% {\n",
              "      border-color: transparent;\n",
              "      border-right-color: var(--fill-color);\n",
              "    }\n",
              "    80% {\n",
              "      border-color: transparent;\n",
              "      border-right-color: var(--fill-color);\n",
              "      border-bottom-color: var(--fill-color);\n",
              "    }\n",
              "    90% {\n",
              "      border-color: transparent;\n",
              "      border-bottom-color: var(--fill-color);\n",
              "    }\n",
              "  }\n",
              "</style>\n",
              "\n",
              "  <script>\n",
              "    async function quickchart(key) {\n",
              "      const quickchartButtonEl =\n",
              "        document.querySelector('#' + key + ' button');\n",
              "      quickchartButtonEl.disabled = true;  // To prevent multiple clicks.\n",
              "      quickchartButtonEl.classList.add('colab-df-spinner');\n",
              "      try {\n",
              "        const charts = await google.colab.kernel.invokeFunction(\n",
              "            'suggestCharts', [key], {});\n",
              "      } catch (error) {\n",
              "        console.error('Error during call to suggestCharts:', error);\n",
              "      }\n",
              "      quickchartButtonEl.classList.remove('colab-df-spinner');\n",
              "      quickchartButtonEl.classList.add('colab-df-quickchart-complete');\n",
              "    }\n",
              "    (() => {\n",
              "      let quickchartButtonEl =\n",
              "        document.querySelector('#df-1c245194-1ad5-443b-b842-0bb78c283870 button');\n",
              "      quickchartButtonEl.style.display =\n",
              "        google.colab.kernel.accessAllowed ? 'block' : 'none';\n",
              "    })();\n",
              "  </script>\n",
              "</div>\n",
              "    </div>\n",
              "  </div>\n"
            ]
          },
          "metadata": {},
          "execution_count": 168
        }
      ]
    },
    {
      "cell_type": "markdown",
      "id": "d568fa84-9723-452e-a134-8f98965b6ea6",
      "metadata": {
        "id": "d568fa84-9723-452e-a134-8f98965b6ea6"
      },
      "source": [
        "##### [A] Once you delete a row in your dataset the index of that row is also deleted. Reset the index of the dataset so it in proper order.\n",
        "> Hint: use the `dataframe.reset_index` function and set the drop parameter to `True`."
      ]
    },
    {
      "cell_type": "code",
      "execution_count": 169,
      "id": "5da799ea-c202-4fec-bc13-0be499fb8a14",
      "metadata": {
        "tags": [],
        "id": "5da799ea-c202-4fec-bc13-0be499fb8a14"
      },
      "outputs": [],
      "source": [
        "#this code used to set the drop parameter to True.\n",
        "df_clean = df_clean.reset_index(drop = True)"
      ]
    },
    {
      "cell_type": "markdown",
      "id": "77a903a9-ea5d-4716-b879-649593b634b5",
      "metadata": {
        "id": "77a903a9-ea5d-4716-b879-649593b634b5"
      },
      "source": [
        "##### [A] Check the data types of your dataframe and print the shape of the dataframe."
      ]
    },
    {
      "cell_type": "code",
      "execution_count": 170,
      "id": "909001a9-4be6-4fee-b3f2-a126a8159914",
      "metadata": {
        "colab": {
          "base_uri": "https://localhost:8080/"
        },
        "id": "909001a9-4be6-4fee-b3f2-a126a8159914",
        "outputId": "50f6548f-3c56-4876-aa8b-5c74ec35d757"
      },
      "outputs": [
        {
          "output_type": "execute_result",
          "data": {
            "text/plain": [
              "Examination Date    datetime64[ns]\n",
              "Name                        object\n",
              "Gender                    category\n",
              "Age                          int64\n",
              "Mode                      category\n",
              "Q                          float64\n",
              "M1                         float64\n",
              "DD                         float64\n",
              "Diagnosis                 category\n",
              "dtype: object"
            ]
          },
          "metadata": {},
          "execution_count": 170
        }
      ],
      "source": [
        "df_clean.dtypes"
      ]
    },
    {
      "cell_type": "code",
      "execution_count": 171,
      "id": "161c932b-8ea0-439c-a307-93bcd71aa711",
      "metadata": {
        "colab": {
          "base_uri": "https://localhost:8080/"
        },
        "id": "161c932b-8ea0-439c-a307-93bcd71aa711",
        "outputId": "c6efe2cb-e6dd-4f37-eea8-1a2a1c78a77e"
      },
      "outputs": [
        {
          "output_type": "execute_result",
          "data": {
            "text/plain": [
              "(59, 9)"
            ]
          },
          "metadata": {},
          "execution_count": 171
        }
      ],
      "source": [
        "df_clean.shape"
      ]
    },
    {
      "cell_type": "markdown",
      "id": "1eb82a39-a117-4954-90d4-7a690e3e593c",
      "metadata": {
        "id": "1eb82a39-a117-4954-90d4-7a690e3e593c"
      },
      "source": [
        "# Lab Activity Two: Clean a Dataset Yourself"
      ]
    },
    {
      "cell_type": "markdown",
      "id": "83cbdf5b-7ae9-4124-8d6e-21abe21dc771",
      "metadata": {
        "id": "83cbdf5b-7ae9-4124-8d6e-21abe21dc771"
      },
      "source": [
        "In this activity, you will need to clean the dataset yourself using the examples from the activity above. The `df_2_lab_2.csv` is loaded and displayed for you."
      ]
    },
    {
      "cell_type": "code",
      "execution_count": 172,
      "id": "12f8209e-00d5-4133-9774-f21685a16d6c",
      "metadata": {
        "colab": {
          "base_uri": "https://localhost:8080/",
          "height": 400
        },
        "id": "12f8209e-00d5-4133-9774-f21685a16d6c",
        "outputId": "a3d40f7c-4ac1-407f-c4c3-78f3b0c2b96f"
      },
      "outputs": [
        {
          "output_type": "execute_result",
          "data": {
            "text/plain": [
              "   Unnamed: 0 Inspection Date                   R1        R2        R3  \\\n",
              "0           0      2010-09-04  0.07960088091996784  0.007344  0.542921   \n",
              "1           1      2010-09-27                    _  0.000204  9.613118   \n",
              "2           2      2010-10-06                    _  0.000928  4.298943   \n",
              "3           3      2010-10-21   0.8776172211437634  0.002254  9.240019   \n",
              "4           4      2010-11-26                    _  0.008547  6.659528   \n",
              "5           5      2010-11-29   0.7518246219719119  0.006172  7.023103   \n",
              "6           6      2011-01-04   0.9279763002997659  0.000833  5.473454   \n",
              "7           7      2011-01-28   0.9051137625634268  0.008793  7.223218   \n",
              "8           8      2011-02-03  0.09188005264255929  0.001529  2.745545   \n",
              "9           9      2011-02-04                    _  0.007507  4.472094   \n",
              "\n",
              "         R4 Device Site  \n",
              "0  0.000074     clinic1  \n",
              "1  0.000042     clinic1  \n",
              "2  0.000041     clinic1  \n",
              "3  0.000182     clinic1  \n",
              "4  0.000022     clinic1  \n",
              "5  0.000016     clinic1  \n",
              "6  0.000124     clinic2  \n",
              "7  0.000209     clinic2  \n",
              "8  0.000024     clinic1  \n",
              "9  0.000035     clinic2  "
            ],
            "text/html": [
              "\n",
              "  <div id=\"df-8d702c26-dae4-46d9-8e2b-ed6a0843f4b6\" class=\"colab-df-container\">\n",
              "    <div>\n",
              "<style scoped>\n",
              "    .dataframe tbody tr th:only-of-type {\n",
              "        vertical-align: middle;\n",
              "    }\n",
              "\n",
              "    .dataframe tbody tr th {\n",
              "        vertical-align: top;\n",
              "    }\n",
              "\n",
              "    .dataframe thead th {\n",
              "        text-align: right;\n",
              "    }\n",
              "</style>\n",
              "<table border=\"1\" class=\"dataframe\">\n",
              "  <thead>\n",
              "    <tr style=\"text-align: right;\">\n",
              "      <th></th>\n",
              "      <th>Unnamed: 0</th>\n",
              "      <th>Inspection Date</th>\n",
              "      <th>R1</th>\n",
              "      <th>R2</th>\n",
              "      <th>R3</th>\n",
              "      <th>R4</th>\n",
              "      <th>Device Site</th>\n",
              "    </tr>\n",
              "  </thead>\n",
              "  <tbody>\n",
              "    <tr>\n",
              "      <th>0</th>\n",
              "      <td>0</td>\n",
              "      <td>2010-09-04</td>\n",
              "      <td>0.07960088091996784</td>\n",
              "      <td>0.007344</td>\n",
              "      <td>0.542921</td>\n",
              "      <td>0.000074</td>\n",
              "      <td>clinic1</td>\n",
              "    </tr>\n",
              "    <tr>\n",
              "      <th>1</th>\n",
              "      <td>1</td>\n",
              "      <td>2010-09-27</td>\n",
              "      <td>_</td>\n",
              "      <td>0.000204</td>\n",
              "      <td>9.613118</td>\n",
              "      <td>0.000042</td>\n",
              "      <td>clinic1</td>\n",
              "    </tr>\n",
              "    <tr>\n",
              "      <th>2</th>\n",
              "      <td>2</td>\n",
              "      <td>2010-10-06</td>\n",
              "      <td>_</td>\n",
              "      <td>0.000928</td>\n",
              "      <td>4.298943</td>\n",
              "      <td>0.000041</td>\n",
              "      <td>clinic1</td>\n",
              "    </tr>\n",
              "    <tr>\n",
              "      <th>3</th>\n",
              "      <td>3</td>\n",
              "      <td>2010-10-21</td>\n",
              "      <td>0.8776172211437634</td>\n",
              "      <td>0.002254</td>\n",
              "      <td>9.240019</td>\n",
              "      <td>0.000182</td>\n",
              "      <td>clinic1</td>\n",
              "    </tr>\n",
              "    <tr>\n",
              "      <th>4</th>\n",
              "      <td>4</td>\n",
              "      <td>2010-11-26</td>\n",
              "      <td>_</td>\n",
              "      <td>0.008547</td>\n",
              "      <td>6.659528</td>\n",
              "      <td>0.000022</td>\n",
              "      <td>clinic1</td>\n",
              "    </tr>\n",
              "    <tr>\n",
              "      <th>5</th>\n",
              "      <td>5</td>\n",
              "      <td>2010-11-29</td>\n",
              "      <td>0.7518246219719119</td>\n",
              "      <td>0.006172</td>\n",
              "      <td>7.023103</td>\n",
              "      <td>0.000016</td>\n",
              "      <td>clinic1</td>\n",
              "    </tr>\n",
              "    <tr>\n",
              "      <th>6</th>\n",
              "      <td>6</td>\n",
              "      <td>2011-01-04</td>\n",
              "      <td>0.9279763002997659</td>\n",
              "      <td>0.000833</td>\n",
              "      <td>5.473454</td>\n",
              "      <td>0.000124</td>\n",
              "      <td>clinic2</td>\n",
              "    </tr>\n",
              "    <tr>\n",
              "      <th>7</th>\n",
              "      <td>7</td>\n",
              "      <td>2011-01-28</td>\n",
              "      <td>0.9051137625634268</td>\n",
              "      <td>0.008793</td>\n",
              "      <td>7.223218</td>\n",
              "      <td>0.000209</td>\n",
              "      <td>clinic2</td>\n",
              "    </tr>\n",
              "    <tr>\n",
              "      <th>8</th>\n",
              "      <td>8</td>\n",
              "      <td>2011-02-03</td>\n",
              "      <td>0.09188005264255929</td>\n",
              "      <td>0.001529</td>\n",
              "      <td>2.745545</td>\n",
              "      <td>0.000024</td>\n",
              "      <td>clinic1</td>\n",
              "    </tr>\n",
              "    <tr>\n",
              "      <th>9</th>\n",
              "      <td>9</td>\n",
              "      <td>2011-02-04</td>\n",
              "      <td>_</td>\n",
              "      <td>0.007507</td>\n",
              "      <td>4.472094</td>\n",
              "      <td>0.000035</td>\n",
              "      <td>clinic2</td>\n",
              "    </tr>\n",
              "  </tbody>\n",
              "</table>\n",
              "</div>\n",
              "    <div class=\"colab-df-buttons\">\n",
              "\n",
              "  <div class=\"colab-df-container\">\n",
              "    <button class=\"colab-df-convert\" onclick=\"convertToInteractive('df-8d702c26-dae4-46d9-8e2b-ed6a0843f4b6')\"\n",
              "            title=\"Convert this dataframe to an interactive table.\"\n",
              "            style=\"display:none;\">\n",
              "\n",
              "  <svg xmlns=\"http://www.w3.org/2000/svg\" height=\"24px\" viewBox=\"0 -960 960 960\">\n",
              "    <path d=\"M120-120v-720h720v720H120Zm60-500h600v-160H180v160Zm220 220h160v-160H400v160Zm0 220h160v-160H400v160ZM180-400h160v-160H180v160Zm440 0h160v-160H620v160ZM180-180h160v-160H180v160Zm440 0h160v-160H620v160Z\"/>\n",
              "  </svg>\n",
              "    </button>\n",
              "\n",
              "  <style>\n",
              "    .colab-df-container {\n",
              "      display:flex;\n",
              "      gap: 12px;\n",
              "    }\n",
              "\n",
              "    .colab-df-convert {\n",
              "      background-color: #E8F0FE;\n",
              "      border: none;\n",
              "      border-radius: 50%;\n",
              "      cursor: pointer;\n",
              "      display: none;\n",
              "      fill: #1967D2;\n",
              "      height: 32px;\n",
              "      padding: 0 0 0 0;\n",
              "      width: 32px;\n",
              "    }\n",
              "\n",
              "    .colab-df-convert:hover {\n",
              "      background-color: #E2EBFA;\n",
              "      box-shadow: 0px 1px 2px rgba(60, 64, 67, 0.3), 0px 1px 3px 1px rgba(60, 64, 67, 0.15);\n",
              "      fill: #174EA6;\n",
              "    }\n",
              "\n",
              "    .colab-df-buttons div {\n",
              "      margin-bottom: 4px;\n",
              "    }\n",
              "\n",
              "    [theme=dark] .colab-df-convert {\n",
              "      background-color: #3B4455;\n",
              "      fill: #D2E3FC;\n",
              "    }\n",
              "\n",
              "    [theme=dark] .colab-df-convert:hover {\n",
              "      background-color: #434B5C;\n",
              "      box-shadow: 0px 1px 3px 1px rgba(0, 0, 0, 0.15);\n",
              "      filter: drop-shadow(0px 1px 2px rgba(0, 0, 0, 0.3));\n",
              "      fill: #FFFFFF;\n",
              "    }\n",
              "  </style>\n",
              "\n",
              "    <script>\n",
              "      const buttonEl =\n",
              "        document.querySelector('#df-8d702c26-dae4-46d9-8e2b-ed6a0843f4b6 button.colab-df-convert');\n",
              "      buttonEl.style.display =\n",
              "        google.colab.kernel.accessAllowed ? 'block' : 'none';\n",
              "\n",
              "      async function convertToInteractive(key) {\n",
              "        const element = document.querySelector('#df-8d702c26-dae4-46d9-8e2b-ed6a0843f4b6');\n",
              "        const dataTable =\n",
              "          await google.colab.kernel.invokeFunction('convertToInteractive',\n",
              "                                                    [key], {});\n",
              "        if (!dataTable) return;\n",
              "\n",
              "        const docLinkHtml = 'Like what you see? Visit the ' +\n",
              "          '<a target=\"_blank\" href=https://colab.research.google.com/notebooks/data_table.ipynb>data table notebook</a>'\n",
              "          + ' to learn more about interactive tables.';\n",
              "        element.innerHTML = '';\n",
              "        dataTable['output_type'] = 'display_data';\n",
              "        await google.colab.output.renderOutput(dataTable, element);\n",
              "        const docLink = document.createElement('div');\n",
              "        docLink.innerHTML = docLinkHtml;\n",
              "        element.appendChild(docLink);\n",
              "      }\n",
              "    </script>\n",
              "  </div>\n",
              "\n",
              "\n",
              "<div id=\"df-aafedb87-f13a-42df-a2cd-e64ea4d0a1b5\">\n",
              "  <button class=\"colab-df-quickchart\" onclick=\"quickchart('df-aafedb87-f13a-42df-a2cd-e64ea4d0a1b5')\"\n",
              "            title=\"Suggest charts.\"\n",
              "            style=\"display:none;\">\n",
              "\n",
              "<svg xmlns=\"http://www.w3.org/2000/svg\" height=\"24px\"viewBox=\"0 0 24 24\"\n",
              "     width=\"24px\">\n",
              "    <g>\n",
              "        <path d=\"M19 3H5c-1.1 0-2 .9-2 2v14c0 1.1.9 2 2 2h14c1.1 0 2-.9 2-2V5c0-1.1-.9-2-2-2zM9 17H7v-7h2v7zm4 0h-2V7h2v10zm4 0h-2v-4h2v4z\"/>\n",
              "    </g>\n",
              "</svg>\n",
              "  </button>\n",
              "\n",
              "<style>\n",
              "  .colab-df-quickchart {\n",
              "      --bg-color: #E8F0FE;\n",
              "      --fill-color: #1967D2;\n",
              "      --hover-bg-color: #E2EBFA;\n",
              "      --hover-fill-color: #174EA6;\n",
              "      --disabled-fill-color: #AAA;\n",
              "      --disabled-bg-color: #DDD;\n",
              "  }\n",
              "\n",
              "  [theme=dark] .colab-df-quickchart {\n",
              "      --bg-color: #3B4455;\n",
              "      --fill-color: #D2E3FC;\n",
              "      --hover-bg-color: #434B5C;\n",
              "      --hover-fill-color: #FFFFFF;\n",
              "      --disabled-bg-color: #3B4455;\n",
              "      --disabled-fill-color: #666;\n",
              "  }\n",
              "\n",
              "  .colab-df-quickchart {\n",
              "    background-color: var(--bg-color);\n",
              "    border: none;\n",
              "    border-radius: 50%;\n",
              "    cursor: pointer;\n",
              "    display: none;\n",
              "    fill: var(--fill-color);\n",
              "    height: 32px;\n",
              "    padding: 0;\n",
              "    width: 32px;\n",
              "  }\n",
              "\n",
              "  .colab-df-quickchart:hover {\n",
              "    background-color: var(--hover-bg-color);\n",
              "    box-shadow: 0 1px 2px rgba(60, 64, 67, 0.3), 0 1px 3px 1px rgba(60, 64, 67, 0.15);\n",
              "    fill: var(--button-hover-fill-color);\n",
              "  }\n",
              "\n",
              "  .colab-df-quickchart-complete:disabled,\n",
              "  .colab-df-quickchart-complete:disabled:hover {\n",
              "    background-color: var(--disabled-bg-color);\n",
              "    fill: var(--disabled-fill-color);\n",
              "    box-shadow: none;\n",
              "  }\n",
              "\n",
              "  .colab-df-spinner {\n",
              "    border: 2px solid var(--fill-color);\n",
              "    border-color: transparent;\n",
              "    border-bottom-color: var(--fill-color);\n",
              "    animation:\n",
              "      spin 1s steps(1) infinite;\n",
              "  }\n",
              "\n",
              "  @keyframes spin {\n",
              "    0% {\n",
              "      border-color: transparent;\n",
              "      border-bottom-color: var(--fill-color);\n",
              "      border-left-color: var(--fill-color);\n",
              "    }\n",
              "    20% {\n",
              "      border-color: transparent;\n",
              "      border-left-color: var(--fill-color);\n",
              "      border-top-color: var(--fill-color);\n",
              "    }\n",
              "    30% {\n",
              "      border-color: transparent;\n",
              "      border-left-color: var(--fill-color);\n",
              "      border-top-color: var(--fill-color);\n",
              "      border-right-color: var(--fill-color);\n",
              "    }\n",
              "    40% {\n",
              "      border-color: transparent;\n",
              "      border-right-color: var(--fill-color);\n",
              "      border-top-color: var(--fill-color);\n",
              "    }\n",
              "    60% {\n",
              "      border-color: transparent;\n",
              "      border-right-color: var(--fill-color);\n",
              "    }\n",
              "    80% {\n",
              "      border-color: transparent;\n",
              "      border-right-color: var(--fill-color);\n",
              "      border-bottom-color: var(--fill-color);\n",
              "    }\n",
              "    90% {\n",
              "      border-color: transparent;\n",
              "      border-bottom-color: var(--fill-color);\n",
              "    }\n",
              "  }\n",
              "</style>\n",
              "\n",
              "  <script>\n",
              "    async function quickchart(key) {\n",
              "      const quickchartButtonEl =\n",
              "        document.querySelector('#' + key + ' button');\n",
              "      quickchartButtonEl.disabled = true;  // To prevent multiple clicks.\n",
              "      quickchartButtonEl.classList.add('colab-df-spinner');\n",
              "      try {\n",
              "        const charts = await google.colab.kernel.invokeFunction(\n",
              "            'suggestCharts', [key], {});\n",
              "      } catch (error) {\n",
              "        console.error('Error during call to suggestCharts:', error);\n",
              "      }\n",
              "      quickchartButtonEl.classList.remove('colab-df-spinner');\n",
              "      quickchartButtonEl.classList.add('colab-df-quickchart-complete');\n",
              "    }\n",
              "    (() => {\n",
              "      let quickchartButtonEl =\n",
              "        document.querySelector('#df-aafedb87-f13a-42df-a2cd-e64ea4d0a1b5 button');\n",
              "      quickchartButtonEl.style.display =\n",
              "        google.colab.kernel.accessAllowed ? 'block' : 'none';\n",
              "    })();\n",
              "  </script>\n",
              "</div>\n",
              "    </div>\n",
              "  </div>\n"
            ]
          },
          "metadata": {},
          "execution_count": 172
        }
      ],
      "source": [
        "df_2 = pd.read_csv('df_2_lab_2.csv')\n",
        "df_2.head(10)"
      ]
    },
    {
      "cell_type": "markdown",
      "id": "187a9e84-e401-45fb-ba83-4fa4d7300c8c",
      "metadata": {
        "id": "187a9e84-e401-45fb-ba83-4fa4d7300c8c"
      },
      "source": [
        "##### [A] Figure out the issues with this dataset and apply the cleaning methods"
      ]
    },
    {
      "cell_type": "code",
      "execution_count": 173,
      "id": "df056f9f-5f54-485b-b77c-acbcd9f19d22",
      "metadata": {
        "id": "df056f9f-5f54-485b-b77c-acbcd9f19d22"
      },
      "outputs": [],
      "source": [
        "#Duplicate of the original data frame\n",
        "df2_clean = df_2.copy()"
      ]
    },
    {
      "cell_type": "code",
      "source": [
        "#To check the shape of dataframe\n",
        "df2_clean.shape"
      ],
      "metadata": {
        "colab": {
          "base_uri": "https://localhost:8080/"
        },
        "id": "1uk7tb7hpc5c",
        "outputId": "b70ed94a-e17e-4374-9154-d65da1782e8d"
      },
      "id": "1uk7tb7hpc5c",
      "execution_count": 174,
      "outputs": [
        {
          "output_type": "execute_result",
          "data": {
            "text/plain": [
              "(22, 7)"
            ]
          },
          "metadata": {},
          "execution_count": 174
        }
      ]
    },
    {
      "cell_type": "code",
      "source": [
        "#To show the first 10 rows\n",
        "df2_clean.head(10)"
      ],
      "metadata": {
        "colab": {
          "base_uri": "https://localhost:8080/",
          "height": 400
        },
        "id": "D5iAJQMNeYAl",
        "outputId": "662065a1-bbb2-4225-b059-d9baa57da89b"
      },
      "id": "D5iAJQMNeYAl",
      "execution_count": 175,
      "outputs": [
        {
          "output_type": "execute_result",
          "data": {
            "text/plain": [
              "   Unnamed: 0 Inspection Date                   R1        R2        R3  \\\n",
              "0           0      2010-09-04  0.07960088091996784  0.007344  0.542921   \n",
              "1           1      2010-09-27                    _  0.000204  9.613118   \n",
              "2           2      2010-10-06                    _  0.000928  4.298943   \n",
              "3           3      2010-10-21   0.8776172211437634  0.002254  9.240019   \n",
              "4           4      2010-11-26                    _  0.008547  6.659528   \n",
              "5           5      2010-11-29   0.7518246219719119  0.006172  7.023103   \n",
              "6           6      2011-01-04   0.9279763002997659  0.000833  5.473454   \n",
              "7           7      2011-01-28   0.9051137625634268  0.008793  7.223218   \n",
              "8           8      2011-02-03  0.09188005264255929  0.001529  2.745545   \n",
              "9           9      2011-02-04                    _  0.007507  4.472094   \n",
              "\n",
              "         R4 Device Site  \n",
              "0  0.000074     clinic1  \n",
              "1  0.000042     clinic1  \n",
              "2  0.000041     clinic1  \n",
              "3  0.000182     clinic1  \n",
              "4  0.000022     clinic1  \n",
              "5  0.000016     clinic1  \n",
              "6  0.000124     clinic2  \n",
              "7  0.000209     clinic2  \n",
              "8  0.000024     clinic1  \n",
              "9  0.000035     clinic2  "
            ],
            "text/html": [
              "\n",
              "  <div id=\"df-64685ea2-49c1-48a8-b953-5d557a633e6a\" class=\"colab-df-container\">\n",
              "    <div>\n",
              "<style scoped>\n",
              "    .dataframe tbody tr th:only-of-type {\n",
              "        vertical-align: middle;\n",
              "    }\n",
              "\n",
              "    .dataframe tbody tr th {\n",
              "        vertical-align: top;\n",
              "    }\n",
              "\n",
              "    .dataframe thead th {\n",
              "        text-align: right;\n",
              "    }\n",
              "</style>\n",
              "<table border=\"1\" class=\"dataframe\">\n",
              "  <thead>\n",
              "    <tr style=\"text-align: right;\">\n",
              "      <th></th>\n",
              "      <th>Unnamed: 0</th>\n",
              "      <th>Inspection Date</th>\n",
              "      <th>R1</th>\n",
              "      <th>R2</th>\n",
              "      <th>R3</th>\n",
              "      <th>R4</th>\n",
              "      <th>Device Site</th>\n",
              "    </tr>\n",
              "  </thead>\n",
              "  <tbody>\n",
              "    <tr>\n",
              "      <th>0</th>\n",
              "      <td>0</td>\n",
              "      <td>2010-09-04</td>\n",
              "      <td>0.07960088091996784</td>\n",
              "      <td>0.007344</td>\n",
              "      <td>0.542921</td>\n",
              "      <td>0.000074</td>\n",
              "      <td>clinic1</td>\n",
              "    </tr>\n",
              "    <tr>\n",
              "      <th>1</th>\n",
              "      <td>1</td>\n",
              "      <td>2010-09-27</td>\n",
              "      <td>_</td>\n",
              "      <td>0.000204</td>\n",
              "      <td>9.613118</td>\n",
              "      <td>0.000042</td>\n",
              "      <td>clinic1</td>\n",
              "    </tr>\n",
              "    <tr>\n",
              "      <th>2</th>\n",
              "      <td>2</td>\n",
              "      <td>2010-10-06</td>\n",
              "      <td>_</td>\n",
              "      <td>0.000928</td>\n",
              "      <td>4.298943</td>\n",
              "      <td>0.000041</td>\n",
              "      <td>clinic1</td>\n",
              "    </tr>\n",
              "    <tr>\n",
              "      <th>3</th>\n",
              "      <td>3</td>\n",
              "      <td>2010-10-21</td>\n",
              "      <td>0.8776172211437634</td>\n",
              "      <td>0.002254</td>\n",
              "      <td>9.240019</td>\n",
              "      <td>0.000182</td>\n",
              "      <td>clinic1</td>\n",
              "    </tr>\n",
              "    <tr>\n",
              "      <th>4</th>\n",
              "      <td>4</td>\n",
              "      <td>2010-11-26</td>\n",
              "      <td>_</td>\n",
              "      <td>0.008547</td>\n",
              "      <td>6.659528</td>\n",
              "      <td>0.000022</td>\n",
              "      <td>clinic1</td>\n",
              "    </tr>\n",
              "    <tr>\n",
              "      <th>5</th>\n",
              "      <td>5</td>\n",
              "      <td>2010-11-29</td>\n",
              "      <td>0.7518246219719119</td>\n",
              "      <td>0.006172</td>\n",
              "      <td>7.023103</td>\n",
              "      <td>0.000016</td>\n",
              "      <td>clinic1</td>\n",
              "    </tr>\n",
              "    <tr>\n",
              "      <th>6</th>\n",
              "      <td>6</td>\n",
              "      <td>2011-01-04</td>\n",
              "      <td>0.9279763002997659</td>\n",
              "      <td>0.000833</td>\n",
              "      <td>5.473454</td>\n",
              "      <td>0.000124</td>\n",
              "      <td>clinic2</td>\n",
              "    </tr>\n",
              "    <tr>\n",
              "      <th>7</th>\n",
              "      <td>7</td>\n",
              "      <td>2011-01-28</td>\n",
              "      <td>0.9051137625634268</td>\n",
              "      <td>0.008793</td>\n",
              "      <td>7.223218</td>\n",
              "      <td>0.000209</td>\n",
              "      <td>clinic2</td>\n",
              "    </tr>\n",
              "    <tr>\n",
              "      <th>8</th>\n",
              "      <td>8</td>\n",
              "      <td>2011-02-03</td>\n",
              "      <td>0.09188005264255929</td>\n",
              "      <td>0.001529</td>\n",
              "      <td>2.745545</td>\n",
              "      <td>0.000024</td>\n",
              "      <td>clinic1</td>\n",
              "    </tr>\n",
              "    <tr>\n",
              "      <th>9</th>\n",
              "      <td>9</td>\n",
              "      <td>2011-02-04</td>\n",
              "      <td>_</td>\n",
              "      <td>0.007507</td>\n",
              "      <td>4.472094</td>\n",
              "      <td>0.000035</td>\n",
              "      <td>clinic2</td>\n",
              "    </tr>\n",
              "  </tbody>\n",
              "</table>\n",
              "</div>\n",
              "    <div class=\"colab-df-buttons\">\n",
              "\n",
              "  <div class=\"colab-df-container\">\n",
              "    <button class=\"colab-df-convert\" onclick=\"convertToInteractive('df-64685ea2-49c1-48a8-b953-5d557a633e6a')\"\n",
              "            title=\"Convert this dataframe to an interactive table.\"\n",
              "            style=\"display:none;\">\n",
              "\n",
              "  <svg xmlns=\"http://www.w3.org/2000/svg\" height=\"24px\" viewBox=\"0 -960 960 960\">\n",
              "    <path d=\"M120-120v-720h720v720H120Zm60-500h600v-160H180v160Zm220 220h160v-160H400v160Zm0 220h160v-160H400v160ZM180-400h160v-160H180v160Zm440 0h160v-160H620v160ZM180-180h160v-160H180v160Zm440 0h160v-160H620v160Z\"/>\n",
              "  </svg>\n",
              "    </button>\n",
              "\n",
              "  <style>\n",
              "    .colab-df-container {\n",
              "      display:flex;\n",
              "      gap: 12px;\n",
              "    }\n",
              "\n",
              "    .colab-df-convert {\n",
              "      background-color: #E8F0FE;\n",
              "      border: none;\n",
              "      border-radius: 50%;\n",
              "      cursor: pointer;\n",
              "      display: none;\n",
              "      fill: #1967D2;\n",
              "      height: 32px;\n",
              "      padding: 0 0 0 0;\n",
              "      width: 32px;\n",
              "    }\n",
              "\n",
              "    .colab-df-convert:hover {\n",
              "      background-color: #E2EBFA;\n",
              "      box-shadow: 0px 1px 2px rgba(60, 64, 67, 0.3), 0px 1px 3px 1px rgba(60, 64, 67, 0.15);\n",
              "      fill: #174EA6;\n",
              "    }\n",
              "\n",
              "    .colab-df-buttons div {\n",
              "      margin-bottom: 4px;\n",
              "    }\n",
              "\n",
              "    [theme=dark] .colab-df-convert {\n",
              "      background-color: #3B4455;\n",
              "      fill: #D2E3FC;\n",
              "    }\n",
              "\n",
              "    [theme=dark] .colab-df-convert:hover {\n",
              "      background-color: #434B5C;\n",
              "      box-shadow: 0px 1px 3px 1px rgba(0, 0, 0, 0.15);\n",
              "      filter: drop-shadow(0px 1px 2px rgba(0, 0, 0, 0.3));\n",
              "      fill: #FFFFFF;\n",
              "    }\n",
              "  </style>\n",
              "\n",
              "    <script>\n",
              "      const buttonEl =\n",
              "        document.querySelector('#df-64685ea2-49c1-48a8-b953-5d557a633e6a button.colab-df-convert');\n",
              "      buttonEl.style.display =\n",
              "        google.colab.kernel.accessAllowed ? 'block' : 'none';\n",
              "\n",
              "      async function convertToInteractive(key) {\n",
              "        const element = document.querySelector('#df-64685ea2-49c1-48a8-b953-5d557a633e6a');\n",
              "        const dataTable =\n",
              "          await google.colab.kernel.invokeFunction('convertToInteractive',\n",
              "                                                    [key], {});\n",
              "        if (!dataTable) return;\n",
              "\n",
              "        const docLinkHtml = 'Like what you see? Visit the ' +\n",
              "          '<a target=\"_blank\" href=https://colab.research.google.com/notebooks/data_table.ipynb>data table notebook</a>'\n",
              "          + ' to learn more about interactive tables.';\n",
              "        element.innerHTML = '';\n",
              "        dataTable['output_type'] = 'display_data';\n",
              "        await google.colab.output.renderOutput(dataTable, element);\n",
              "        const docLink = document.createElement('div');\n",
              "        docLink.innerHTML = docLinkHtml;\n",
              "        element.appendChild(docLink);\n",
              "      }\n",
              "    </script>\n",
              "  </div>\n",
              "\n",
              "\n",
              "<div id=\"df-2bfd284d-3716-43e2-afc0-bc72de8d662b\">\n",
              "  <button class=\"colab-df-quickchart\" onclick=\"quickchart('df-2bfd284d-3716-43e2-afc0-bc72de8d662b')\"\n",
              "            title=\"Suggest charts.\"\n",
              "            style=\"display:none;\">\n",
              "\n",
              "<svg xmlns=\"http://www.w3.org/2000/svg\" height=\"24px\"viewBox=\"0 0 24 24\"\n",
              "     width=\"24px\">\n",
              "    <g>\n",
              "        <path d=\"M19 3H5c-1.1 0-2 .9-2 2v14c0 1.1.9 2 2 2h14c1.1 0 2-.9 2-2V5c0-1.1-.9-2-2-2zM9 17H7v-7h2v7zm4 0h-2V7h2v10zm4 0h-2v-4h2v4z\"/>\n",
              "    </g>\n",
              "</svg>\n",
              "  </button>\n",
              "\n",
              "<style>\n",
              "  .colab-df-quickchart {\n",
              "      --bg-color: #E8F0FE;\n",
              "      --fill-color: #1967D2;\n",
              "      --hover-bg-color: #E2EBFA;\n",
              "      --hover-fill-color: #174EA6;\n",
              "      --disabled-fill-color: #AAA;\n",
              "      --disabled-bg-color: #DDD;\n",
              "  }\n",
              "\n",
              "  [theme=dark] .colab-df-quickchart {\n",
              "      --bg-color: #3B4455;\n",
              "      --fill-color: #D2E3FC;\n",
              "      --hover-bg-color: #434B5C;\n",
              "      --hover-fill-color: #FFFFFF;\n",
              "      --disabled-bg-color: #3B4455;\n",
              "      --disabled-fill-color: #666;\n",
              "  }\n",
              "\n",
              "  .colab-df-quickchart {\n",
              "    background-color: var(--bg-color);\n",
              "    border: none;\n",
              "    border-radius: 50%;\n",
              "    cursor: pointer;\n",
              "    display: none;\n",
              "    fill: var(--fill-color);\n",
              "    height: 32px;\n",
              "    padding: 0;\n",
              "    width: 32px;\n",
              "  }\n",
              "\n",
              "  .colab-df-quickchart:hover {\n",
              "    background-color: var(--hover-bg-color);\n",
              "    box-shadow: 0 1px 2px rgba(60, 64, 67, 0.3), 0 1px 3px 1px rgba(60, 64, 67, 0.15);\n",
              "    fill: var(--button-hover-fill-color);\n",
              "  }\n",
              "\n",
              "  .colab-df-quickchart-complete:disabled,\n",
              "  .colab-df-quickchart-complete:disabled:hover {\n",
              "    background-color: var(--disabled-bg-color);\n",
              "    fill: var(--disabled-fill-color);\n",
              "    box-shadow: none;\n",
              "  }\n",
              "\n",
              "  .colab-df-spinner {\n",
              "    border: 2px solid var(--fill-color);\n",
              "    border-color: transparent;\n",
              "    border-bottom-color: var(--fill-color);\n",
              "    animation:\n",
              "      spin 1s steps(1) infinite;\n",
              "  }\n",
              "\n",
              "  @keyframes spin {\n",
              "    0% {\n",
              "      border-color: transparent;\n",
              "      border-bottom-color: var(--fill-color);\n",
              "      border-left-color: var(--fill-color);\n",
              "    }\n",
              "    20% {\n",
              "      border-color: transparent;\n",
              "      border-left-color: var(--fill-color);\n",
              "      border-top-color: var(--fill-color);\n",
              "    }\n",
              "    30% {\n",
              "      border-color: transparent;\n",
              "      border-left-color: var(--fill-color);\n",
              "      border-top-color: var(--fill-color);\n",
              "      border-right-color: var(--fill-color);\n",
              "    }\n",
              "    40% {\n",
              "      border-color: transparent;\n",
              "      border-right-color: var(--fill-color);\n",
              "      border-top-color: var(--fill-color);\n",
              "    }\n",
              "    60% {\n",
              "      border-color: transparent;\n",
              "      border-right-color: var(--fill-color);\n",
              "    }\n",
              "    80% {\n",
              "      border-color: transparent;\n",
              "      border-right-color: var(--fill-color);\n",
              "      border-bottom-color: var(--fill-color);\n",
              "    }\n",
              "    90% {\n",
              "      border-color: transparent;\n",
              "      border-bottom-color: var(--fill-color);\n",
              "    }\n",
              "  }\n",
              "</style>\n",
              "\n",
              "  <script>\n",
              "    async function quickchart(key) {\n",
              "      const quickchartButtonEl =\n",
              "        document.querySelector('#' + key + ' button');\n",
              "      quickchartButtonEl.disabled = true;  // To prevent multiple clicks.\n",
              "      quickchartButtonEl.classList.add('colab-df-spinner');\n",
              "      try {\n",
              "        const charts = await google.colab.kernel.invokeFunction(\n",
              "            'suggestCharts', [key], {});\n",
              "      } catch (error) {\n",
              "        console.error('Error during call to suggestCharts:', error);\n",
              "      }\n",
              "      quickchartButtonEl.classList.remove('colab-df-spinner');\n",
              "      quickchartButtonEl.classList.add('colab-df-quickchart-complete');\n",
              "    }\n",
              "    (() => {\n",
              "      let quickchartButtonEl =\n",
              "        document.querySelector('#df-2bfd284d-3716-43e2-afc0-bc72de8d662b button');\n",
              "      quickchartButtonEl.style.display =\n",
              "        google.colab.kernel.accessAllowed ? 'block' : 'none';\n",
              "    })();\n",
              "  </script>\n",
              "</div>\n",
              "    </div>\n",
              "  </div>\n"
            ]
          },
          "metadata": {},
          "execution_count": 175
        }
      ]
    },
    {
      "cell_type": "code",
      "execution_count": 176,
      "id": "beba1231-3018-4583-9cda-44e754aa6166",
      "metadata": {
        "id": "beba1231-3018-4583-9cda-44e754aa6166"
      },
      "outputs": [],
      "source": [
        "#this code is use to remove the column Unnamed: 0\n",
        "df2_clean = df2_clean.drop( columns= ['Unnamed: 0'])"
      ]
    },
    {
      "cell_type": "code",
      "execution_count": 177,
      "id": "61ff8aad-8d0d-4b0b-b634-4d201fee4968",
      "metadata": {
        "id": "61ff8aad-8d0d-4b0b-b634-4d201fee4968"
      },
      "outputs": [],
      "source": [
        "#Changing the 'R1' column to numeric data type(float64) instead of 'object'.\n",
        "df2_clean['R1'] = pd.to_numeric(df2_clean['R1'], errors = 'coerce')"
      ]
    },
    {
      "cell_type": "code",
      "execution_count": 178,
      "id": "2bbb277c-d4e3-4610-a85c-287043deed91",
      "metadata": {
        "id": "2bbb277c-d4e3-4610-a85c-287043deed91"
      },
      "outputs": [],
      "source": [
        "#Converting the Inspection Date column to datetime data type.\n",
        "df2_clean['Inspection Date'] = pd.to_datetime(df2_clean['Inspection Date'])"
      ]
    },
    {
      "cell_type": "code",
      "execution_count": 179,
      "id": "69a4d613-23bd-4656-948f-1adb2d7a2dba",
      "metadata": {
        "id": "69a4d613-23bd-4656-948f-1adb2d7a2dba",
        "colab": {
          "base_uri": "https://localhost:8080/"
        },
        "outputId": "6ef31665-ad42-4f6b-fbf5-c182d8587338"
      },
      "outputs": [
        {
          "output_type": "execute_result",
          "data": {
            "text/plain": [
              "array(['clinic1', 'clinic2'], dtype=object)"
            ]
          },
          "metadata": {},
          "execution_count": 179
        }
      ],
      "source": [
        "#Checking the Unique values of Device Site Features\n",
        "df2_clean['Device Site'].unique()"
      ]
    },
    {
      "cell_type": "code",
      "execution_count": 180,
      "id": "7fd19ac3-71e8-42c5-b326-acb0ccea1c49",
      "metadata": {
        "id": "7fd19ac3-71e8-42c5-b326-acb0ccea1c49"
      },
      "outputs": [],
      "source": [
        "#device_type key that we set the device type column as categorical data.\n",
        "device_type = pd.CategoricalDtype(categories=['clinic1', 'clinic2'])\n",
        "df2_clean[\"Device Site\"] = df2_clean[\"Device Site\"].astype(device_type)"
      ]
    },
    {
      "cell_type": "code",
      "execution_count": 181,
      "id": "eb32eebb-f5c4-4f8a-bf1c-a517f38ad2b9",
      "metadata": {
        "id": "eb32eebb-f5c4-4f8a-bf1c-a517f38ad2b9",
        "colab": {
          "base_uri": "https://localhost:8080/"
        },
        "outputId": "b4372acb-0c9b-4b1e-e9ac-dc16297896dc"
      },
      "outputs": [
        {
          "output_type": "execute_result",
          "data": {
            "text/plain": [
              "Inspection Date    datetime64[ns]\n",
              "R1                        float64\n",
              "R2                        float64\n",
              "R3                        float64\n",
              "R4                        float64\n",
              "Device Site              category\n",
              "dtype: object"
            ]
          },
          "metadata": {},
          "execution_count": 181
        }
      ],
      "source": [
        "#Check the data types of the dataframe and print the shape of the dataframe.\n",
        "df2_clean.dtypes"
      ]
    },
    {
      "cell_type": "code",
      "source": [
        "#Checking the Unique values of Inspection Date Features\n",
        "df2_clean['Inspection Date'].unique()"
      ],
      "metadata": {
        "colab": {
          "base_uri": "https://localhost:8080/"
        },
        "id": "FQ69nHRRj4DR",
        "outputId": "25bc1520-8073-4f11-965e-82f82c3db90a"
      },
      "id": "FQ69nHRRj4DR",
      "execution_count": 182,
      "outputs": [
        {
          "output_type": "execute_result",
          "data": {
            "text/plain": [
              "array(['2010-09-04T00:00:00.000000000', '2010-09-27T00:00:00.000000000',\n",
              "       '2010-10-06T00:00:00.000000000', '2010-10-21T00:00:00.000000000',\n",
              "       '2010-11-26T00:00:00.000000000', '2010-11-29T00:00:00.000000000',\n",
              "       '2011-01-04T00:00:00.000000000', '2011-01-28T00:00:00.000000000',\n",
              "       '2011-02-03T00:00:00.000000000', '2011-02-04T00:00:00.000000000',\n",
              "       '2011-02-17T00:00:00.000000000', '2011-02-27T00:00:00.000000000',\n",
              "       '2011-03-10T00:00:00.000000000', '2011-04-10T00:00:00.000000000',\n",
              "       '2011-05-21T00:00:00.000000000', '2011-05-30T00:00:00.000000000',\n",
              "       '2011-05-31T00:00:00.000000000', '2011-06-10T00:00:00.000000000',\n",
              "       '2011-07-17T00:00:00.000000000', '2011-07-24T00:00:00.000000000'],\n",
              "      dtype='datetime64[ns]')"
            ]
          },
          "metadata": {},
          "execution_count": 182
        }
      ]
    },
    {
      "cell_type": "code",
      "execution_count": 183,
      "id": "31ea73d1-aceb-48bc-bd3e-149e227a9c46",
      "metadata": {
        "id": "31ea73d1-aceb-48bc-bd3e-149e227a9c46",
        "colab": {
          "base_uri": "https://localhost:8080/"
        },
        "outputId": "e98dcf19-935d-47fb-81ab-0d38dad7955a"
      },
      "outputs": [
        {
          "output_type": "execute_result",
          "data": {
            "text/plain": [
              "array([0.07960088,        nan, 0.87761722, 0.75182462, 0.9279763 ,\n",
              "       0.90511376, 0.09188005, 0.68392412, 0.60318716, 0.62296081,\n",
              "       0.51084674, 0.8258057 , 0.4981389 , 0.4153777 , 0.63858706,\n",
              "       0.36442741])"
            ]
          },
          "metadata": {},
          "execution_count": 183
        }
      ],
      "source": [
        "#Checking the Unique values of R1 Features\n",
        "df2_clean['R1'].unique()"
      ]
    },
    {
      "cell_type": "code",
      "execution_count": 184,
      "id": "c011ec4e-3e34-4a66-930c-790936b5f035",
      "metadata": {
        "id": "c011ec4e-3e34-4a66-930c-790936b5f035",
        "colab": {
          "base_uri": "https://localhost:8080/"
        },
        "outputId": "c0b481ba-04ba-43e9-91b3-dffee25f38f5"
      },
      "outputs": [
        {
          "output_type": "execute_result",
          "data": {
            "text/plain": [
              "array([0.00734356, 0.0002041 , 0.00092786, 0.00225439, 0.00854714,\n",
              "       0.00617227, 0.00083285, 0.00879283, 0.00152949, 0.00750652,\n",
              "       0.00824557, 0.00595488, 0.00015293, 0.0022346 , 0.00996164,\n",
              "       0.00887066, 0.00961029, 0.00039116, 0.00796753, 0.00124115,\n",
              "       0.005587  , 0.00068982])"
            ]
          },
          "metadata": {},
          "execution_count": 184
        }
      ],
      "source": [
        "#Checking the Unique values of R2 Features\n",
        "df2_clean['R2'].unique()"
      ]
    },
    {
      "cell_type": "code",
      "execution_count": 185,
      "id": "3872cd76-d5d8-4fe3-9970-592e9b466148",
      "metadata": {
        "colab": {
          "base_uri": "https://localhost:8080/"
        },
        "id": "3872cd76-d5d8-4fe3-9970-592e9b466148",
        "outputId": "0d688d45-25b7-4db1-ec3b-b03626574934"
      },
      "outputs": [
        {
          "output_type": "execute_result",
          "data": {
            "text/plain": [
              "array([ 0.54292069,  9.61311816,  4.29894332,  9.24001932,  6.65952788,\n",
              "        7.02310271,  5.47345392,  7.22321815,  2.74554509,  4.47209384,\n",
              "        5.04736962,  5.68629602,  1.97180362, 11.65281021, 10.82207863,\n",
              "       11.93315685,  5.15205577,  7.03626232,  4.19818239,  9.85027439,\n",
              "       10.05301885,  2.70553273])"
            ]
          },
          "metadata": {},
          "execution_count": 185
        }
      ],
      "source": [
        "#Checking the Unique values of R3 Features\n",
        "df2_clean['R3'].unique()"
      ]
    },
    {
      "cell_type": "code",
      "source": [
        "#Checking the Unique values of R34 Features\n",
        "df2_clean['R4'].unique()"
      ],
      "metadata": {
        "colab": {
          "base_uri": "https://localhost:8080/"
        },
        "id": "BaiIVisIjzqA",
        "outputId": "beea5a91-49e8-4cea-f394-e99c64620a2e"
      },
      "id": "BaiIVisIjzqA",
      "execution_count": 186,
      "outputs": [
        {
          "output_type": "execute_result",
          "data": {
            "text/plain": [
              "array([7.42982526e-05, 4.23192143e-05, 4.13526365e-05, 1.81675239e-04,\n",
              "       2.21202704e-05, 1.59905553e-05, 1.23803608e-04, 2.08966155e-04,\n",
              "       2.36015128e-05, 3.54215822e-05, 9.05373783e-05, 1.78653460e-04,\n",
              "       1.65144352e-04, 1.20882505e-04, 8.43264859e-05, 1.53099230e-04,\n",
              "       2.26573409e-04, 1.44945002e-04, 1.04024543e-05, 9.53562283e-05,\n",
              "       2.79409824e-05, 7.02836096e-05])"
            ]
          },
          "metadata": {},
          "execution_count": 186
        }
      ]
    },
    {
      "cell_type": "code",
      "source": [
        "#Check for duplicate entries and delete\n",
        "duplicate_rows = df2_clean.duplicated()\n",
        "display(duplicate_rows)"
      ],
      "metadata": {
        "colab": {
          "base_uri": "https://localhost:8080/",
          "height": 428
        },
        "id": "199vXrhDj1tu",
        "outputId": "e8543d5b-0780-4dd5-b5a1-0d76650af428"
      },
      "id": "199vXrhDj1tu",
      "execution_count": 187,
      "outputs": [
        {
          "output_type": "display_data",
          "data": {
            "text/plain": [
              "0     False\n",
              "1     False\n",
              "2     False\n",
              "3     False\n",
              "4     False\n",
              "5     False\n",
              "6     False\n",
              "7     False\n",
              "8     False\n",
              "9     False\n",
              "10    False\n",
              "11    False\n",
              "12    False\n",
              "13    False\n",
              "14    False\n",
              "15    False\n",
              "16    False\n",
              "17    False\n",
              "18    False\n",
              "19    False\n",
              "20    False\n",
              "21    False\n",
              "dtype: bool"
            ]
          },
          "metadata": {}
        }
      ]
    },
    {
      "cell_type": "code",
      "source": [
        "#Dropping the Duplicated rows\n",
        "df2_clean = df2_clean[~duplicate_rows]"
      ],
      "metadata": {
        "id": "p9Yd1_9Bn8Ng"
      },
      "id": "p9Yd1_9Bn8Ng",
      "execution_count": 188,
      "outputs": []
    },
    {
      "cell_type": "code",
      "source": [
        "#this code used to set the drop parameter to True.\n",
        "df2_clean = df2_clean.reset_index(drop = True)"
      ],
      "metadata": {
        "id": "_0OJT6-snSLN"
      },
      "id": "_0OJT6-snSLN",
      "execution_count": 189,
      "outputs": []
    },
    {
      "cell_type": "code",
      "source": [
        "#Checking the data types of the dataframe\n",
        "df2_clean.dtypes"
      ],
      "metadata": {
        "colab": {
          "base_uri": "https://localhost:8080/"
        },
        "id": "OnZ3D7kvnZPW",
        "outputId": "5bb9b7d7-faf5-4625-95c0-d0219fb9aeb0"
      },
      "id": "OnZ3D7kvnZPW",
      "execution_count": 190,
      "outputs": [
        {
          "output_type": "execute_result",
          "data": {
            "text/plain": [
              "Inspection Date    datetime64[ns]\n",
              "R1                        float64\n",
              "R2                        float64\n",
              "R3                        float64\n",
              "R4                        float64\n",
              "Device Site              category\n",
              "dtype: object"
            ]
          },
          "metadata": {},
          "execution_count": 190
        }
      ]
    },
    {
      "cell_type": "code",
      "source": [
        "#Use to print the shape of the dataframe.\n",
        "df2_clean.shape"
      ],
      "metadata": {
        "colab": {
          "base_uri": "https://localhost:8080/"
        },
        "id": "Q9zVEeMYne43",
        "outputId": "7aa8b09f-44a1-465a-8a5c-ab105df65754"
      },
      "id": "Q9zVEeMYne43",
      "execution_count": 191,
      "outputs": [
        {
          "output_type": "execute_result",
          "data": {
            "text/plain": [
              "(22, 6)"
            ]
          },
          "metadata": {},
          "execution_count": 191
        }
      ]
    }
  ],
  "metadata": {
    "kernelspec": {
      "display_name": "Python 3",
      "name": "python3"
    },
    "language_info": {
      "codemirror_mode": {
        "name": "ipython",
        "version": 3
      },
      "file_extension": ".py",
      "mimetype": "text/x-python",
      "name": "python",
      "nbconvert_exporter": "python",
      "pygments_lexer": "ipython3",
      "version": "3.9.7"
    },
    "colab": {
      "provenance": [],
      "gpuType": "T4"
    },
    "accelerator": "GPU"
  },
  "nbformat": 4,
  "nbformat_minor": 5
}